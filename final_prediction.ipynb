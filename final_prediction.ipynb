{
 "cells": [
  {
   "cell_type": "markdown",
   "id": "3748e307",
   "metadata": {},
   "source": [
    "# <h1 align=\"center\">COSC2753 - Machine Learning</h1>\n",
    "\n",
    "<h2 align=\"center\">Final Prediction</h2>"
   ]
  },
  {
   "cell_type": "markdown",
   "id": "da89776b",
   "metadata": {},
   "source": [
    "# TABLE OF CONTENT\n",
    "\n"
   ]
  },
  {
   "cell_type": "markdown",
   "id": "253357f4",
   "metadata": {},
   "source": [
    "# IMPORT LIBRARIES"
   ]
  },
  {
   "cell_type": "code",
   "execution_count": 9,
   "id": "4415e3cd",
   "metadata": {},
   "outputs": [],
   "source": [
    "import os\n",
    "import pandas as pd\n",
    "import importlib\n",
    "\n",
    "# Import custom libraries\n",
    "import utils.visualizations as ut\n",
    "\n",
    "importlib.reload(ut);"
   ]
  },
  {
   "cell_type": "code",
   "execution_count": null,
   "id": "1e01a795",
   "metadata": {},
   "outputs": [],
   "source": [
    "from tensorflow.keras.models import load_model\n",
    "from tensorflow.keras.src.legacy.preprocessing.image import ImageDataGenerator"
   ]
  },
  {
   "cell_type": "code",
   "execution_count": 12,
   "id": "537a8d73",
   "metadata": {},
   "outputs": [],
   "source": [
    "from keras.models import load_model\n",
    "from keras.src.legacy.preprocessing.image import ImageDataGenerator"
   ]
  },
  {
   "cell_type": "markdown",
   "id": "4a8d8c87",
   "metadata": {},
   "source": [
    "# Setup Necessary Variables"
   ]
  },
  {
   "cell_type": "code",
   "execution_count": 2,
   "id": "e9b1f5c0",
   "metadata": {},
   "outputs": [],
   "source": [
    "# File paths\n",
    "test_df_path = \"./inputs/prediction_submission.csv\"\n",
    "output_file = \"COSC2753_A2_S2_G2.csv\"\n",
    "test_dir = \"./inputs/test_images\"\n",
    "\n",
    "# Model paths\n",
    "disease_model_path = \"./models/vgg_best.keras\"\n",
    "variety_model_path = \"./models/efficientnet_final.keras\"\n",
    "age_model_path = \"./models/age_model.keras\""
   ]
  },
  {
   "cell_type": "code",
   "execution_count": 11,
   "id": "46381118",
   "metadata": {},
   "outputs": [
    {
     "data": {
      "application/vnd.microsoft.datawrangler.viewer.v0+json": {
       "columns": [
        {
         "name": "index",
         "rawType": "int64",
         "type": "integer"
        },
        {
         "name": "image_id",
         "rawType": "object",
         "type": "string"
        },
        {
         "name": "label",
         "rawType": "float64",
         "type": "float"
        },
        {
         "name": "variety",
         "rawType": "float64",
         "type": "float"
        },
        {
         "name": "age",
         "rawType": "float64",
         "type": "float"
        },
        {
         "name": "image_path",
         "rawType": "object",
         "type": "string"
        }
       ],
       "ref": "3149034a-df32-4570-8ca4-6abb34eb207f",
       "rows": [
        [
         "0",
         "200001.jpg",
         null,
         null,
         null,
         "./inputs/test_images/200001.jpg"
        ],
        [
         "1",
         "200002.jpg",
         null,
         null,
         null,
         "./inputs/test_images/200002.jpg"
        ],
        [
         "2",
         "200003.jpg",
         null,
         null,
         null,
         "./inputs/test_images/200003.jpg"
        ],
        [
         "3",
         "200004.jpg",
         null,
         null,
         null,
         "./inputs/test_images/200004.jpg"
        ],
        [
         "4",
         "200005.jpg",
         null,
         null,
         null,
         "./inputs/test_images/200005.jpg"
        ],
        [
         "5",
         "200006.jpg",
         null,
         null,
         null,
         "./inputs/test_images/200006.jpg"
        ],
        [
         "6",
         "200007.jpg",
         null,
         null,
         null,
         "./inputs/test_images/200007.jpg"
        ],
        [
         "7",
         "200008.jpg",
         null,
         null,
         null,
         "./inputs/test_images/200008.jpg"
        ],
        [
         "8",
         "200009.jpg",
         null,
         null,
         null,
         "./inputs/test_images/200009.jpg"
        ],
        [
         "9",
         "200010.jpg",
         null,
         null,
         null,
         "./inputs/test_images/200010.jpg"
        ],
        [
         "10",
         "200011.jpg",
         null,
         null,
         null,
         "./inputs/test_images/200011.jpg"
        ],
        [
         "11",
         "200012.jpg",
         null,
         null,
         null,
         "./inputs/test_images/200012.jpg"
        ],
        [
         "12",
         "200013.jpg",
         null,
         null,
         null,
         "./inputs/test_images/200013.jpg"
        ],
        [
         "13",
         "200014.jpg",
         null,
         null,
         null,
         "./inputs/test_images/200014.jpg"
        ],
        [
         "14",
         "200015.jpg",
         null,
         null,
         null,
         "./inputs/test_images/200015.jpg"
        ],
        [
         "15",
         "200016.jpg",
         null,
         null,
         null,
         "./inputs/test_images/200016.jpg"
        ],
        [
         "16",
         "200017.jpg",
         null,
         null,
         null,
         "./inputs/test_images/200017.jpg"
        ],
        [
         "17",
         "200018.jpg",
         null,
         null,
         null,
         "./inputs/test_images/200018.jpg"
        ],
        [
         "18",
         "200019.jpg",
         null,
         null,
         null,
         "./inputs/test_images/200019.jpg"
        ],
        [
         "19",
         "200020.jpg",
         null,
         null,
         null,
         "./inputs/test_images/200020.jpg"
        ],
        [
         "20",
         "200021.jpg",
         null,
         null,
         null,
         "./inputs/test_images/200021.jpg"
        ],
        [
         "21",
         "200022.jpg",
         null,
         null,
         null,
         "./inputs/test_images/200022.jpg"
        ],
        [
         "22",
         "200023.jpg",
         null,
         null,
         null,
         "./inputs/test_images/200023.jpg"
        ],
        [
         "23",
         "200024.jpg",
         null,
         null,
         null,
         "./inputs/test_images/200024.jpg"
        ],
        [
         "24",
         "200025.jpg",
         null,
         null,
         null,
         "./inputs/test_images/200025.jpg"
        ],
        [
         "25",
         "200026.jpg",
         null,
         null,
         null,
         "./inputs/test_images/200026.jpg"
        ],
        [
         "26",
         "200027.jpg",
         null,
         null,
         null,
         "./inputs/test_images/200027.jpg"
        ],
        [
         "27",
         "200028.jpg",
         null,
         null,
         null,
         "./inputs/test_images/200028.jpg"
        ],
        [
         "28",
         "200029.jpg",
         null,
         null,
         null,
         "./inputs/test_images/200029.jpg"
        ],
        [
         "29",
         "200030.jpg",
         null,
         null,
         null,
         "./inputs/test_images/200030.jpg"
        ],
        [
         "30",
         "200031.jpg",
         null,
         null,
         null,
         "./inputs/test_images/200031.jpg"
        ],
        [
         "31",
         "200032.jpg",
         null,
         null,
         null,
         "./inputs/test_images/200032.jpg"
        ],
        [
         "32",
         "200033.jpg",
         null,
         null,
         null,
         "./inputs/test_images/200033.jpg"
        ],
        [
         "33",
         "200034.jpg",
         null,
         null,
         null,
         "./inputs/test_images/200034.jpg"
        ],
        [
         "34",
         "200035.jpg",
         null,
         null,
         null,
         "./inputs/test_images/200035.jpg"
        ],
        [
         "35",
         "200036.jpg",
         null,
         null,
         null,
         "./inputs/test_images/200036.jpg"
        ],
        [
         "36",
         "200037.jpg",
         null,
         null,
         null,
         "./inputs/test_images/200037.jpg"
        ],
        [
         "37",
         "200038.jpg",
         null,
         null,
         null,
         "./inputs/test_images/200038.jpg"
        ],
        [
         "38",
         "200039.jpg",
         null,
         null,
         null,
         "./inputs/test_images/200039.jpg"
        ],
        [
         "39",
         "200040.jpg",
         null,
         null,
         null,
         "./inputs/test_images/200040.jpg"
        ],
        [
         "40",
         "200041.jpg",
         null,
         null,
         null,
         "./inputs/test_images/200041.jpg"
        ],
        [
         "41",
         "200042.jpg",
         null,
         null,
         null,
         "./inputs/test_images/200042.jpg"
        ],
        [
         "42",
         "200043.jpg",
         null,
         null,
         null,
         "./inputs/test_images/200043.jpg"
        ],
        [
         "43",
         "200044.jpg",
         null,
         null,
         null,
         "./inputs/test_images/200044.jpg"
        ],
        [
         "44",
         "200045.jpg",
         null,
         null,
         null,
         "./inputs/test_images/200045.jpg"
        ],
        [
         "45",
         "200046.jpg",
         null,
         null,
         null,
         "./inputs/test_images/200046.jpg"
        ],
        [
         "46",
         "200047.jpg",
         null,
         null,
         null,
         "./inputs/test_images/200047.jpg"
        ],
        [
         "47",
         "200048.jpg",
         null,
         null,
         null,
         "./inputs/test_images/200048.jpg"
        ],
        [
         "48",
         "200049.jpg",
         null,
         null,
         null,
         "./inputs/test_images/200049.jpg"
        ],
        [
         "49",
         "200050.jpg",
         null,
         null,
         null,
         "./inputs/test_images/200050.jpg"
        ]
       ],
       "shape": {
        "columns": 5,
        "rows": 3469
       }
      },
      "text/html": [
       "<div>\n",
       "<style scoped>\n",
       "    .dataframe tbody tr th:only-of-type {\n",
       "        vertical-align: middle;\n",
       "    }\n",
       "\n",
       "    .dataframe tbody tr th {\n",
       "        vertical-align: top;\n",
       "    }\n",
       "\n",
       "    .dataframe thead th {\n",
       "        text-align: right;\n",
       "    }\n",
       "</style>\n",
       "<table border=\"1\" class=\"dataframe\">\n",
       "  <thead>\n",
       "    <tr style=\"text-align: right;\">\n",
       "      <th></th>\n",
       "      <th>image_id</th>\n",
       "      <th>label</th>\n",
       "      <th>variety</th>\n",
       "      <th>age</th>\n",
       "      <th>image_path</th>\n",
       "    </tr>\n",
       "  </thead>\n",
       "  <tbody>\n",
       "    <tr>\n",
       "      <th>0</th>\n",
       "      <td>200001.jpg</td>\n",
       "      <td>NaN</td>\n",
       "      <td>NaN</td>\n",
       "      <td>NaN</td>\n",
       "      <td>./inputs/test_images/200001.jpg</td>\n",
       "    </tr>\n",
       "    <tr>\n",
       "      <th>1</th>\n",
       "      <td>200002.jpg</td>\n",
       "      <td>NaN</td>\n",
       "      <td>NaN</td>\n",
       "      <td>NaN</td>\n",
       "      <td>./inputs/test_images/200002.jpg</td>\n",
       "    </tr>\n",
       "    <tr>\n",
       "      <th>2</th>\n",
       "      <td>200003.jpg</td>\n",
       "      <td>NaN</td>\n",
       "      <td>NaN</td>\n",
       "      <td>NaN</td>\n",
       "      <td>./inputs/test_images/200003.jpg</td>\n",
       "    </tr>\n",
       "    <tr>\n",
       "      <th>3</th>\n",
       "      <td>200004.jpg</td>\n",
       "      <td>NaN</td>\n",
       "      <td>NaN</td>\n",
       "      <td>NaN</td>\n",
       "      <td>./inputs/test_images/200004.jpg</td>\n",
       "    </tr>\n",
       "    <tr>\n",
       "      <th>4</th>\n",
       "      <td>200005.jpg</td>\n",
       "      <td>NaN</td>\n",
       "      <td>NaN</td>\n",
       "      <td>NaN</td>\n",
       "      <td>./inputs/test_images/200005.jpg</td>\n",
       "    </tr>\n",
       "    <tr>\n",
       "      <th>...</th>\n",
       "      <td>...</td>\n",
       "      <td>...</td>\n",
       "      <td>...</td>\n",
       "      <td>...</td>\n",
       "      <td>...</td>\n",
       "    </tr>\n",
       "    <tr>\n",
       "      <th>3464</th>\n",
       "      <td>203465.jpg</td>\n",
       "      <td>NaN</td>\n",
       "      <td>NaN</td>\n",
       "      <td>NaN</td>\n",
       "      <td>./inputs/test_images/203465.jpg</td>\n",
       "    </tr>\n",
       "    <tr>\n",
       "      <th>3465</th>\n",
       "      <td>203466.jpg</td>\n",
       "      <td>NaN</td>\n",
       "      <td>NaN</td>\n",
       "      <td>NaN</td>\n",
       "      <td>./inputs/test_images/203466.jpg</td>\n",
       "    </tr>\n",
       "    <tr>\n",
       "      <th>3466</th>\n",
       "      <td>203467.jpg</td>\n",
       "      <td>NaN</td>\n",
       "      <td>NaN</td>\n",
       "      <td>NaN</td>\n",
       "      <td>./inputs/test_images/203467.jpg</td>\n",
       "    </tr>\n",
       "    <tr>\n",
       "      <th>3467</th>\n",
       "      <td>203468.jpg</td>\n",
       "      <td>NaN</td>\n",
       "      <td>NaN</td>\n",
       "      <td>NaN</td>\n",
       "      <td>./inputs/test_images/203468.jpg</td>\n",
       "    </tr>\n",
       "    <tr>\n",
       "      <th>3468</th>\n",
       "      <td>203469.jpg</td>\n",
       "      <td>NaN</td>\n",
       "      <td>NaN</td>\n",
       "      <td>NaN</td>\n",
       "      <td>./inputs/test_images/203469.jpg</td>\n",
       "    </tr>\n",
       "  </tbody>\n",
       "</table>\n",
       "<p>3469 rows × 5 columns</p>\n",
       "</div>"
      ],
      "text/plain": [
       "        image_id  label  variety  age                       image_path\n",
       "0     200001.jpg    NaN      NaN  NaN  ./inputs/test_images/200001.jpg\n",
       "1     200002.jpg    NaN      NaN  NaN  ./inputs/test_images/200002.jpg\n",
       "2     200003.jpg    NaN      NaN  NaN  ./inputs/test_images/200003.jpg\n",
       "3     200004.jpg    NaN      NaN  NaN  ./inputs/test_images/200004.jpg\n",
       "4     200005.jpg    NaN      NaN  NaN  ./inputs/test_images/200005.jpg\n",
       "...          ...    ...      ...  ...                              ...\n",
       "3464  203465.jpg    NaN      NaN  NaN  ./inputs/test_images/203465.jpg\n",
       "3465  203466.jpg    NaN      NaN  NaN  ./inputs/test_images/203466.jpg\n",
       "3466  203467.jpg    NaN      NaN  NaN  ./inputs/test_images/203467.jpg\n",
       "3467  203468.jpg    NaN      NaN  NaN  ./inputs/test_images/203468.jpg\n",
       "3468  203469.jpg    NaN      NaN  NaN  ./inputs/test_images/203469.jpg\n",
       "\n",
       "[3469 rows x 5 columns]"
      ]
     },
     "execution_count": 11,
     "metadata": {},
     "output_type": "execute_result"
    }
   ],
   "source": [
    "original_test_df = pd.read_csv(test_df_path)\n",
    "\n",
    "test_df = original_test_df.copy()\n",
    "\n",
    "# Add full image paths\n",
    "test_df[\"image_path\"] = test_df[\"image_id\"].apply(lambda x: os.path.join(test_dir, x))\n",
    "test_df"
   ]
  },
  {
   "cell_type": "code",
   "execution_count": null,
   "id": "b8d881ae",
   "metadata": {},
   "outputs": [],
   "source": [
    "def load_and_prepare_model(model_path, target_size, class_mapping=None):\n",
    "    if not os.path.exists(model_path):\n",
    "        print(f\"Error: Model not found at {model_path}\")\n",
    "        return None\n",
    "\n",
    "    model = load_model(model_path)\n",
    "    print(f\"Loaded model from {model_path}\")\n",
    "\n",
    "    # Set up data generator for predictions\n",
    "    datagen = ImageDataGenerator(rescale=1.0 / 255.0)\n",
    "\n",
    "    # Create a generator that doesn't shuffle to maintain order\n",
    "    generator = datagen.flow_from_dataframe(\n",
    "        dataframe=test_df,\n",
    "        directory=\"\",\n",
    "        x_col=\"image_path\",\n",
    "        y_col=None,  # No labels for test data\n",
    "        target_size=target_size,\n",
    "        batch_size=32,\n",
    "        class_mode=None,\n",
    "        shuffle=False,\n",
    "    )\n",
    "\n",
    "    return model, generator, class_mapping"
   ]
  },
  {
   "cell_type": "markdown",
   "id": "91dfb70c",
   "metadata": {},
   "source": [
    "# Task 1: Disease Classification Final Prediction"
   ]
  },
  {
   "cell_type": "code",
   "execution_count": null,
   "id": "9ed633e6",
   "metadata": {},
   "outputs": [],
   "source": []
  },
  {
   "cell_type": "markdown",
   "id": "dfcd8f3b",
   "metadata": {},
   "source": [
    "# Task 2: Variety Classification Final Prediction"
   ]
  },
  {
   "cell_type": "code",
   "execution_count": null,
   "id": "d43ca46e",
   "metadata": {},
   "outputs": [],
   "source": [
    "# Task 3: Age Final Prediction"
   ]
  }
 ],
 "metadata": {
  "kernelspec": {
   "display_name": "base",
   "language": "python",
   "name": "python3"
  },
  "language_info": {
   "codemirror_mode": {
    "name": "ipython",
    "version": 3
   },
   "file_extension": ".py",
   "mimetype": "text/x-python",
   "name": "python",
   "nbconvert_exporter": "python",
   "pygments_lexer": "ipython3",
   "version": "3.12.2"
  }
 },
 "nbformat": 4,
 "nbformat_minor": 5
}
