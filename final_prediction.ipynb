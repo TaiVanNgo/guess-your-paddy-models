{
 "cells": [
  {
   "cell_type": "markdown",
   "id": "3748e307",
   "metadata": {},
   "source": [
    "# <h1 align=\"center\">COSC2753 - Machine Learning</h1>\n",
    "\n",
    "<h2 align=\"center\">Final Prediction</h2>"
   ]
  },
  {
   "cell_type": "markdown",
   "id": "da89776b",
   "metadata": {},
   "source": [
    "# TABLE OF CONTENT\n",
    "\n"
   ]
  },
  {
   "cell_type": "markdown",
   "id": "253357f4",
   "metadata": {},
   "source": [
    "# IMPORT LIBRARIES"
   ]
  },
  {
   "cell_type": "code",
   "execution_count": 1,
   "id": "4415e3cd",
   "metadata": {},
   "outputs": [],
   "source": [
    "import os\n",
    "import pandas as pd\n",
    "import numpy as np\n",
    "import importlib\n",
    "import tensorflow as tf\n",
    "# Import custom libraries\n",
    "import utils.visualizations as vi\n",
    "\n",
    "importlib.reload(vi);"
   ]
  },
  {
   "cell_type": "code",
   "execution_count": 2,
   "id": "1e01a795",
   "metadata": {},
   "outputs": [],
   "source": [
    "from tensorflow.keras.models import load_model\n",
    "from tensorflow.keras.preprocessing.image import ImageDataGenerator"
   ]
  },
  {
   "cell_type": "code",
   "execution_count": 2,
   "id": "9a3086e8",
   "metadata": {},
   "outputs": [],
   "source": [
    "from keras.models import load_model\n",
    "from keras.src.legacy.preprocessing.image import ImageDataGenerator"
   ]
  },
  {
   "cell_type": "markdown",
   "id": "4a8d8c87",
   "metadata": {},
   "source": [
    "# Setup Necessary Variables"
   ]
  },
  {
   "cell_type": "code",
   "execution_count": 3,
   "id": "1bc0ee6d",
   "metadata": {},
   "outputs": [],
   "source": [
    "OUTPUT_CLASSES = 10\n",
    "BATCH_SIZE = 32\n",
    "INPUT_DIM = (128, 128, 3)"
   ]
  },
  {
   "cell_type": "code",
   "execution_count": 4,
   "id": "e9b1f5c0",
   "metadata": {},
   "outputs": [],
   "source": [
    "# File paths\n",
    "test_df_path = \"./inputs/prediction_submission.csv\"\n",
    "output_file = \"COSC2753_A2_S2_G2.csv\"\n",
    "test_dir = \"./inputs/test_images\""
   ]
  },
  {
   "cell_type": "code",
   "execution_count": 5,
   "id": "46381118",
   "metadata": {},
   "outputs": [
    {
     "data": {
      "application/vnd.microsoft.datawrangler.viewer.v0+json": {
       "columns": [
        {
         "name": "index",
         "rawType": "int64",
         "type": "integer"
        },
        {
         "name": "image_id",
         "rawType": "object",
         "type": "string"
        },
        {
         "name": "label",
         "rawType": "float64",
         "type": "float"
        },
        {
         "name": "variety",
         "rawType": "float64",
         "type": "float"
        },
        {
         "name": "age",
         "rawType": "float64",
         "type": "float"
        },
        {
         "name": "image_path",
         "rawType": "object",
         "type": "string"
        }
       ],
       "conversionMethod": "pd.DataFrame",
       "ref": "8791a748-8104-4359-b57e-ca3bfd735395",
       "rows": [
        [
         "0",
         "200001.jpg",
         null,
         null,
         null,
         "./inputs/test_images\\200001.jpg"
        ],
        [
         "1",
         "200002.jpg",
         null,
         null,
         null,
         "./inputs/test_images\\200002.jpg"
        ],
        [
         "2",
         "200003.jpg",
         null,
         null,
         null,
         "./inputs/test_images\\200003.jpg"
        ],
        [
         "3",
         "200004.jpg",
         null,
         null,
         null,
         "./inputs/test_images\\200004.jpg"
        ],
        [
         "4",
         "200005.jpg",
         null,
         null,
         null,
         "./inputs/test_images\\200005.jpg"
        ],
        [
         "5",
         "200006.jpg",
         null,
         null,
         null,
         "./inputs/test_images\\200006.jpg"
        ],
        [
         "6",
         "200007.jpg",
         null,
         null,
         null,
         "./inputs/test_images\\200007.jpg"
        ],
        [
         "7",
         "200008.jpg",
         null,
         null,
         null,
         "./inputs/test_images\\200008.jpg"
        ],
        [
         "8",
         "200009.jpg",
         null,
         null,
         null,
         "./inputs/test_images\\200009.jpg"
        ],
        [
         "9",
         "200010.jpg",
         null,
         null,
         null,
         "./inputs/test_images\\200010.jpg"
        ],
        [
         "10",
         "200011.jpg",
         null,
         null,
         null,
         "./inputs/test_images\\200011.jpg"
        ],
        [
         "11",
         "200012.jpg",
         null,
         null,
         null,
         "./inputs/test_images\\200012.jpg"
        ],
        [
         "12",
         "200013.jpg",
         null,
         null,
         null,
         "./inputs/test_images\\200013.jpg"
        ],
        [
         "13",
         "200014.jpg",
         null,
         null,
         null,
         "./inputs/test_images\\200014.jpg"
        ],
        [
         "14",
         "200015.jpg",
         null,
         null,
         null,
         "./inputs/test_images\\200015.jpg"
        ],
        [
         "15",
         "200016.jpg",
         null,
         null,
         null,
         "./inputs/test_images\\200016.jpg"
        ],
        [
         "16",
         "200017.jpg",
         null,
         null,
         null,
         "./inputs/test_images\\200017.jpg"
        ],
        [
         "17",
         "200018.jpg",
         null,
         null,
         null,
         "./inputs/test_images\\200018.jpg"
        ],
        [
         "18",
         "200019.jpg",
         null,
         null,
         null,
         "./inputs/test_images\\200019.jpg"
        ],
        [
         "19",
         "200020.jpg",
         null,
         null,
         null,
         "./inputs/test_images\\200020.jpg"
        ],
        [
         "20",
         "200021.jpg",
         null,
         null,
         null,
         "./inputs/test_images\\200021.jpg"
        ],
        [
         "21",
         "200022.jpg",
         null,
         null,
         null,
         "./inputs/test_images\\200022.jpg"
        ],
        [
         "22",
         "200023.jpg",
         null,
         null,
         null,
         "./inputs/test_images\\200023.jpg"
        ],
        [
         "23",
         "200024.jpg",
         null,
         null,
         null,
         "./inputs/test_images\\200024.jpg"
        ],
        [
         "24",
         "200025.jpg",
         null,
         null,
         null,
         "./inputs/test_images\\200025.jpg"
        ],
        [
         "25",
         "200026.jpg",
         null,
         null,
         null,
         "./inputs/test_images\\200026.jpg"
        ],
        [
         "26",
         "200027.jpg",
         null,
         null,
         null,
         "./inputs/test_images\\200027.jpg"
        ],
        [
         "27",
         "200028.jpg",
         null,
         null,
         null,
         "./inputs/test_images\\200028.jpg"
        ],
        [
         "28",
         "200029.jpg",
         null,
         null,
         null,
         "./inputs/test_images\\200029.jpg"
        ],
        [
         "29",
         "200030.jpg",
         null,
         null,
         null,
         "./inputs/test_images\\200030.jpg"
        ],
        [
         "30",
         "200031.jpg",
         null,
         null,
         null,
         "./inputs/test_images\\200031.jpg"
        ],
        [
         "31",
         "200032.jpg",
         null,
         null,
         null,
         "./inputs/test_images\\200032.jpg"
        ],
        [
         "32",
         "200033.jpg",
         null,
         null,
         null,
         "./inputs/test_images\\200033.jpg"
        ],
        [
         "33",
         "200034.jpg",
         null,
         null,
         null,
         "./inputs/test_images\\200034.jpg"
        ],
        [
         "34",
         "200035.jpg",
         null,
         null,
         null,
         "./inputs/test_images\\200035.jpg"
        ],
        [
         "35",
         "200036.jpg",
         null,
         null,
         null,
         "./inputs/test_images\\200036.jpg"
        ],
        [
         "36",
         "200037.jpg",
         null,
         null,
         null,
         "./inputs/test_images\\200037.jpg"
        ],
        [
         "37",
         "200038.jpg",
         null,
         null,
         null,
         "./inputs/test_images\\200038.jpg"
        ],
        [
         "38",
         "200039.jpg",
         null,
         null,
         null,
         "./inputs/test_images\\200039.jpg"
        ],
        [
         "39",
         "200040.jpg",
         null,
         null,
         null,
         "./inputs/test_images\\200040.jpg"
        ],
        [
         "40",
         "200041.jpg",
         null,
         null,
         null,
         "./inputs/test_images\\200041.jpg"
        ],
        [
         "41",
         "200042.jpg",
         null,
         null,
         null,
         "./inputs/test_images\\200042.jpg"
        ],
        [
         "42",
         "200043.jpg",
         null,
         null,
         null,
         "./inputs/test_images\\200043.jpg"
        ],
        [
         "43",
         "200044.jpg",
         null,
         null,
         null,
         "./inputs/test_images\\200044.jpg"
        ],
        [
         "44",
         "200045.jpg",
         null,
         null,
         null,
         "./inputs/test_images\\200045.jpg"
        ],
        [
         "45",
         "200046.jpg",
         null,
         null,
         null,
         "./inputs/test_images\\200046.jpg"
        ],
        [
         "46",
         "200047.jpg",
         null,
         null,
         null,
         "./inputs/test_images\\200047.jpg"
        ],
        [
         "47",
         "200048.jpg",
         null,
         null,
         null,
         "./inputs/test_images\\200048.jpg"
        ],
        [
         "48",
         "200049.jpg",
         null,
         null,
         null,
         "./inputs/test_images\\200049.jpg"
        ],
        [
         "49",
         "200050.jpg",
         null,
         null,
         null,
         "./inputs/test_images\\200050.jpg"
        ]
       ],
       "shape": {
        "columns": 5,
        "rows": 3469
       }
      },
      "text/html": [
       "<div>\n",
       "<style scoped>\n",
       "    .dataframe tbody tr th:only-of-type {\n",
       "        vertical-align: middle;\n",
       "    }\n",
       "\n",
       "    .dataframe tbody tr th {\n",
       "        vertical-align: top;\n",
       "    }\n",
       "\n",
       "    .dataframe thead th {\n",
       "        text-align: right;\n",
       "    }\n",
       "</style>\n",
       "<table border=\"1\" class=\"dataframe\">\n",
       "  <thead>\n",
       "    <tr style=\"text-align: right;\">\n",
       "      <th></th>\n",
       "      <th>image_id</th>\n",
       "      <th>label</th>\n",
       "      <th>variety</th>\n",
       "      <th>age</th>\n",
       "      <th>image_path</th>\n",
       "    </tr>\n",
       "  </thead>\n",
       "  <tbody>\n",
       "    <tr>\n",
       "      <th>0</th>\n",
       "      <td>200001.jpg</td>\n",
       "      <td>NaN</td>\n",
       "      <td>NaN</td>\n",
       "      <td>NaN</td>\n",
       "      <td>./inputs/test_images\\200001.jpg</td>\n",
       "    </tr>\n",
       "    <tr>\n",
       "      <th>1</th>\n",
       "      <td>200002.jpg</td>\n",
       "      <td>NaN</td>\n",
       "      <td>NaN</td>\n",
       "      <td>NaN</td>\n",
       "      <td>./inputs/test_images\\200002.jpg</td>\n",
       "    </tr>\n",
       "    <tr>\n",
       "      <th>2</th>\n",
       "      <td>200003.jpg</td>\n",
       "      <td>NaN</td>\n",
       "      <td>NaN</td>\n",
       "      <td>NaN</td>\n",
       "      <td>./inputs/test_images\\200003.jpg</td>\n",
       "    </tr>\n",
       "    <tr>\n",
       "      <th>3</th>\n",
       "      <td>200004.jpg</td>\n",
       "      <td>NaN</td>\n",
       "      <td>NaN</td>\n",
       "      <td>NaN</td>\n",
       "      <td>./inputs/test_images\\200004.jpg</td>\n",
       "    </tr>\n",
       "    <tr>\n",
       "      <th>4</th>\n",
       "      <td>200005.jpg</td>\n",
       "      <td>NaN</td>\n",
       "      <td>NaN</td>\n",
       "      <td>NaN</td>\n",
       "      <td>./inputs/test_images\\200005.jpg</td>\n",
       "    </tr>\n",
       "    <tr>\n",
       "      <th>...</th>\n",
       "      <td>...</td>\n",
       "      <td>...</td>\n",
       "      <td>...</td>\n",
       "      <td>...</td>\n",
       "      <td>...</td>\n",
       "    </tr>\n",
       "    <tr>\n",
       "      <th>3464</th>\n",
       "      <td>203465.jpg</td>\n",
       "      <td>NaN</td>\n",
       "      <td>NaN</td>\n",
       "      <td>NaN</td>\n",
       "      <td>./inputs/test_images\\203465.jpg</td>\n",
       "    </tr>\n",
       "    <tr>\n",
       "      <th>3465</th>\n",
       "      <td>203466.jpg</td>\n",
       "      <td>NaN</td>\n",
       "      <td>NaN</td>\n",
       "      <td>NaN</td>\n",
       "      <td>./inputs/test_images\\203466.jpg</td>\n",
       "    </tr>\n",
       "    <tr>\n",
       "      <th>3466</th>\n",
       "      <td>203467.jpg</td>\n",
       "      <td>NaN</td>\n",
       "      <td>NaN</td>\n",
       "      <td>NaN</td>\n",
       "      <td>./inputs/test_images\\203467.jpg</td>\n",
       "    </tr>\n",
       "    <tr>\n",
       "      <th>3467</th>\n",
       "      <td>203468.jpg</td>\n",
       "      <td>NaN</td>\n",
       "      <td>NaN</td>\n",
       "      <td>NaN</td>\n",
       "      <td>./inputs/test_images\\203468.jpg</td>\n",
       "    </tr>\n",
       "    <tr>\n",
       "      <th>3468</th>\n",
       "      <td>203469.jpg</td>\n",
       "      <td>NaN</td>\n",
       "      <td>NaN</td>\n",
       "      <td>NaN</td>\n",
       "      <td>./inputs/test_images\\203469.jpg</td>\n",
       "    </tr>\n",
       "  </tbody>\n",
       "</table>\n",
       "<p>3469 rows × 5 columns</p>\n",
       "</div>"
      ],
      "text/plain": [
       "        image_id  label  variety  age                       image_path\n",
       "0     200001.jpg    NaN      NaN  NaN  ./inputs/test_images\\200001.jpg\n",
       "1     200002.jpg    NaN      NaN  NaN  ./inputs/test_images\\200002.jpg\n",
       "2     200003.jpg    NaN      NaN  NaN  ./inputs/test_images\\200003.jpg\n",
       "3     200004.jpg    NaN      NaN  NaN  ./inputs/test_images\\200004.jpg\n",
       "4     200005.jpg    NaN      NaN  NaN  ./inputs/test_images\\200005.jpg\n",
       "...          ...    ...      ...  ...                              ...\n",
       "3464  203465.jpg    NaN      NaN  NaN  ./inputs/test_images\\203465.jpg\n",
       "3465  203466.jpg    NaN      NaN  NaN  ./inputs/test_images\\203466.jpg\n",
       "3466  203467.jpg    NaN      NaN  NaN  ./inputs/test_images\\203467.jpg\n",
       "3467  203468.jpg    NaN      NaN  NaN  ./inputs/test_images\\203468.jpg\n",
       "3468  203469.jpg    NaN      NaN  NaN  ./inputs/test_images\\203469.jpg\n",
       "\n",
       "[3469 rows x 5 columns]"
      ]
     },
     "execution_count": 5,
     "metadata": {},
     "output_type": "execute_result"
    }
   ],
   "source": [
    "original_test_df = pd.read_csv(test_df_path)\n",
    "\n",
    "test_df = original_test_df.copy()\n",
    "train_df = pd.read_csv(\"./inputs/training_df.csv\")\n",
    "\n",
    "# Add full image paths\n",
    "test_df[\"image_path\"] = test_df[\"image_id\"].apply(lambda x: os.path.join(test_dir, x))\n",
    "\n",
    "test_df"
   ]
  },
  {
   "cell_type": "code",
   "execution_count": 6,
   "id": "b8d881ae",
   "metadata": {},
   "outputs": [],
   "source": [
    "def load_and_prepare_model(\n",
    "    model_path, test_df, is_resized=True, target_size=(128, 128)\n",
    "):\n",
    "    # Load training data\n",
    "    if not os.path.exists(model_path):\n",
    "        print(f\"[ERROR] Model not found at {model_path}\")\n",
    "        return None, None, None\n",
    "\n",
    "    # Load the model\n",
    "    if not os.path.exists(model_path):\n",
    "        print(\"[ERROR] Model not found at {model_path}\")\n",
    "        return None, None, None\n",
    "\n",
    "    model = load_model(model_path)\n",
    "    print(f\"Model loaded from {model_path}\")\n",
    "\n",
    "    datagen = ImageDataGenerator(\n",
    "        rescale=1.0 / 255.0 if is_resized else None, data_format=\"channels_last\"\n",
    "    )\n",
    "\n",
    "    # Create a generator for predictions\n",
    "    generator = datagen.flow_from_dataframe(\n",
    "        dataframe=test_df,\n",
    "        directory=\"\",\n",
    "        x_col=\"image_path\",\n",
    "        y_col=None,\n",
    "        target_size=target_size,\n",
    "        batch_size=BATCH_SIZE,\n",
    "        class_mode=None,\n",
    "        shuffle=False,\n",
    "    )\n",
    "\n",
    "    return model, generator"
   ]
  },
  {
   "cell_type": "code",
   "execution_count": 7,
   "id": "1b19010f",
   "metadata": {},
   "outputs": [],
   "source": [
    "def wrap_generator(gen):\n",
    "    for batch in gen:\n",
    "        yield (batch,)  "
   ]
  },
  {
   "cell_type": "markdown",
   "id": "91dfb70c",
   "metadata": {},
   "source": [
    "# Task 1: Disease Classification Final Prediction"
   ]
  },
  {
   "cell_type": "code",
   "execution_count": null,
   "id": "f6ed3c69",
   "metadata": {},
   "outputs": [],
   "source": [
    "disease_model_path = \"./models/vgg_best.keras\"\n",
    "disease_classes = {\n",
    "    0: \"bacterial_leaf_blight\",\n",
    "    1: \"bacterial_leaf_streak\",\n",
    "    2: \"bacterial_panicle_blight\",\n",
    "    3: \"blast\",\n",
    "    4: \"brown_spot\",\n",
    "    5: \"dead_heart\",\n",
    "    6: \"downy_mildew\",\n",
    "    7: \"hispa\",\n",
    "    8: \"normal\",\n",
    "    9: \"tungro\",\n",
    "}\n",
    "\n",
    "\n",
    "disease_model, disease_generator = load_and_prepare_model(\n",
    "    disease_model_path,\n",
    "    test_df,\n",
    ")"
   ]
  },
  {
   "cell_type": "code",
   "execution_count": 33,
   "id": "dbfcab59",
   "metadata": {},
   "outputs": [
    {
     "name": "stdout",
     "output_type": "stream",
     "text": [
      "+----------------------------------------------+\n",
      "|           DISEASE FINAL PREDICTION           |\n",
      "+----------------------------------------------+\n",
      "\u001b[1m109/109\u001b[0m \u001b[32m━━━━━━━━━━━━━━━━━━━━\u001b[0m\u001b[37m\u001b[0m \u001b[1m32s\u001b[0m 291ms/step\n",
      "Predicted probabilities shape: (3469, 10)\n"
     ]
    }
   ],
   "source": [
    "vi.print_header(\"Disease Final Prediction\")\n",
    "disease_pred_probs = disease_model.predict(\n",
    "    wrap_generator(disease_generator), steps=len(disease_generator), verbose=1\n",
    ")\n",
    "\n",
    "print(\"Predicted probabilities shape:\", disease_pred_probs.shape)\n",
    "\n",
    "disease_pred_indices = np.argmax(disease_pred_probs, axis=1)\n",
    "disease_labels = [disease_classes[i] for i in disease_pred_indices]"
   ]
  },
  {
   "cell_type": "markdown",
   "id": "9ee8f186",
   "metadata": {},
   "source": [
    "## Save to data frame"
   ]
  },
  {
   "cell_type": "code",
   "execution_count": 23,
   "id": "45ffc589",
   "metadata": {},
   "outputs": [],
   "source": [
    "submission_df = test_df.copy()\n",
    "submission_df.drop(columns=[\"image_path\"], inplace=True)"
   ]
  },
  {
   "cell_type": "code",
   "execution_count": null,
   "id": "3d7e7b1f",
   "metadata": {},
   "outputs": [
    {
     "data": {
      "application/vnd.microsoft.datawrangler.viewer.v0+json": {
       "columns": [
        {
         "name": "index",
         "rawType": "int64",
         "type": "integer"
        },
        {
         "name": "image_id",
         "rawType": "object",
         "type": "string"
        },
        {
         "name": "label",
         "rawType": "object",
         "type": "string"
        }
       ],
       "ref": "9bb33ad4-4841-495f-b1af-632f56a0010e",
       "rows": [
        [
         "0",
         "200001.jpg",
         "blast"
        ],
        [
         "1",
         "200002.jpg",
         "hispa"
        ],
        [
         "2",
         "200003.jpg",
         "brown_spot"
        ],
        [
         "3",
         "200004.jpg",
         "brown_spot"
        ],
        [
         "4",
         "200005.jpg",
         "dead_heart"
        ],
        [
         "5",
         "200006.jpg",
         "hispa"
        ],
        [
         "6",
         "200007.jpg",
         "hispa"
        ],
        [
         "7",
         "200008.jpg",
         "tungro"
        ],
        [
         "8",
         "200009.jpg",
         "downy_mildew"
        ],
        [
         "9",
         "200010.jpg",
         "tungro"
        ],
        [
         "10",
         "200011.jpg",
         "tungro"
        ],
        [
         "11",
         "200012.jpg",
         "normal"
        ],
        [
         "12",
         "200013.jpg",
         "bacterial_leaf_blight"
        ],
        [
         "13",
         "200014.jpg",
         "normal"
        ],
        [
         "14",
         "200015.jpg",
         "normal"
        ],
        [
         "15",
         "200016.jpg",
         "dead_heart"
        ],
        [
         "16",
         "200017.jpg",
         "brown_spot"
        ],
        [
         "17",
         "200018.jpg",
         "blast"
        ],
        [
         "18",
         "200019.jpg",
         "tungro"
        ],
        [
         "19",
         "200020.jpg",
         "normal"
        ],
        [
         "20",
         "200021.jpg",
         "normal"
        ],
        [
         "21",
         "200022.jpg",
         "blast"
        ],
        [
         "22",
         "200023.jpg",
         "normal"
        ],
        [
         "23",
         "200024.jpg",
         "dead_heart"
        ],
        [
         "24",
         "200025.jpg",
         "blast"
        ],
        [
         "25",
         "200026.jpg",
         "brown_spot"
        ],
        [
         "26",
         "200027.jpg",
         "normal"
        ],
        [
         "27",
         "200028.jpg",
         "hispa"
        ],
        [
         "28",
         "200029.jpg",
         "hispa"
        ],
        [
         "29",
         "200030.jpg",
         "dead_heart"
        ],
        [
         "30",
         "200031.jpg",
         "tungro"
        ],
        [
         "31",
         "200032.jpg",
         "bacterial_panicle_blight"
        ],
        [
         "32",
         "200033.jpg",
         "blast"
        ],
        [
         "33",
         "200034.jpg",
         "downy_mildew"
        ],
        [
         "34",
         "200035.jpg",
         "normal"
        ],
        [
         "35",
         "200036.jpg",
         "tungro"
        ],
        [
         "36",
         "200037.jpg",
         "hispa"
        ],
        [
         "37",
         "200038.jpg",
         "normal"
        ],
        [
         "38",
         "200039.jpg",
         "bacterial_leaf_streak"
        ],
        [
         "39",
         "200040.jpg",
         "downy_mildew"
        ],
        [
         "40",
         "200041.jpg",
         "normal"
        ],
        [
         "41",
         "200042.jpg",
         "brown_spot"
        ],
        [
         "42",
         "200043.jpg",
         "tungro"
        ],
        [
         "43",
         "200044.jpg",
         "tungro"
        ],
        [
         "44",
         "200045.jpg",
         "normal"
        ],
        [
         "45",
         "200046.jpg",
         "hispa"
        ],
        [
         "46",
         "200047.jpg",
         "dead_heart"
        ],
        [
         "47",
         "200048.jpg",
         "brown_spot"
        ],
        [
         "48",
         "200049.jpg",
         "bacterial_panicle_blight"
        ],
        [
         "49",
         "200050.jpg",
         "blast"
        ]
       ],
       "shape": {
        "columns": 2,
        "rows": 3469
       }
      },
      "text/html": [
       "<div>\n",
       "<style scoped>\n",
       "    .dataframe tbody tr th:only-of-type {\n",
       "        vertical-align: middle;\n",
       "    }\n",
       "\n",
       "    .dataframe tbody tr th {\n",
       "        vertical-align: top;\n",
       "    }\n",
       "\n",
       "    .dataframe thead th {\n",
       "        text-align: right;\n",
       "    }\n",
       "</style>\n",
       "<table border=\"1\" class=\"dataframe\">\n",
       "  <thead>\n",
       "    <tr style=\"text-align: right;\">\n",
       "      <th></th>\n",
       "      <th>image_id</th>\n",
       "      <th>label</th>\n",
       "    </tr>\n",
       "  </thead>\n",
       "  <tbody>\n",
       "    <tr>\n",
       "      <th>0</th>\n",
       "      <td>200001.jpg</td>\n",
       "      <td>blast</td>\n",
       "    </tr>\n",
       "    <tr>\n",
       "      <th>1</th>\n",
       "      <td>200002.jpg</td>\n",
       "      <td>hispa</td>\n",
       "    </tr>\n",
       "    <tr>\n",
       "      <th>2</th>\n",
       "      <td>200003.jpg</td>\n",
       "      <td>brown_spot</td>\n",
       "    </tr>\n",
       "    <tr>\n",
       "      <th>3</th>\n",
       "      <td>200004.jpg</td>\n",
       "      <td>brown_spot</td>\n",
       "    </tr>\n",
       "    <tr>\n",
       "      <th>4</th>\n",
       "      <td>200005.jpg</td>\n",
       "      <td>dead_heart</td>\n",
       "    </tr>\n",
       "    <tr>\n",
       "      <th>...</th>\n",
       "      <td>...</td>\n",
       "      <td>...</td>\n",
       "    </tr>\n",
       "    <tr>\n",
       "      <th>3464</th>\n",
       "      <td>203465.jpg</td>\n",
       "      <td>brown_spot</td>\n",
       "    </tr>\n",
       "    <tr>\n",
       "      <th>3465</th>\n",
       "      <td>203466.jpg</td>\n",
       "      <td>hispa</td>\n",
       "    </tr>\n",
       "    <tr>\n",
       "      <th>3466</th>\n",
       "      <td>203467.jpg</td>\n",
       "      <td>blast</td>\n",
       "    </tr>\n",
       "    <tr>\n",
       "      <th>3467</th>\n",
       "      <td>203468.jpg</td>\n",
       "      <td>blast</td>\n",
       "    </tr>\n",
       "    <tr>\n",
       "      <th>3468</th>\n",
       "      <td>203469.jpg</td>\n",
       "      <td>normal</td>\n",
       "    </tr>\n",
       "  </tbody>\n",
       "</table>\n",
       "<p>3469 rows × 2 columns</p>\n",
       "</div>"
      ],
      "text/plain": [
       "        image_id       label\n",
       "0     200001.jpg       blast\n",
       "1     200002.jpg       hispa\n",
       "2     200003.jpg  brown_spot\n",
       "3     200004.jpg  brown_spot\n",
       "4     200005.jpg  dead_heart\n",
       "...          ...         ...\n",
       "3464  203465.jpg  brown_spot\n",
       "3465  203466.jpg       hispa\n",
       "3466  203467.jpg       blast\n",
       "3467  203468.jpg       blast\n",
       "3468  203469.jpg      normal\n",
       "\n",
       "[3469 rows x 2 columns]"
      ]
     },
     "execution_count": 34,
     "metadata": {},
     "output_type": "execute_result"
    }
   ],
   "source": [
    "submission_df[\"label\"] = disease_labels\n",
    "submission_df"
   ]
  },
  {
   "cell_type": "markdown",
   "id": "dfcd8f3b",
   "metadata": {},
   "source": [
    "# Task 2: Variety Classification Final Prediction"
   ]
  },
  {
   "cell_type": "code",
   "execution_count": 8,
   "id": "99ec9056",
   "metadata": {},
   "outputs": [
    {
     "name": "stdout",
     "output_type": "stream",
     "text": [
      "Model loaded from ./models/efficientnet_final.keras\n",
      "Found 3469 validated image filenames.\n"
     ]
    }
   ],
   "source": [
    "variety_model_path = \"./models/efficientnet_final.keras\"\n",
    "variety_classes = {\n",
    "    0: \"ADT45\",\n",
    "    1: \"AndraPonni\",\n",
    "    2: \"AtchayaPonni\",\n",
    "    3: \"IR20\",\n",
    "    4: \"KarnatakaPonni\",\n",
    "    5: \"Onthanel\",\n",
    "    6: \"Ponni\",\n",
    "    7: \"RR\",\n",
    "    8: \"Surya\",\n",
    "    9: \"Zonal\",\n",
    "}\n",
    "\n",
    "variety_model, variety_generator = load_and_prepare_model(\n",
    "    variety_model_path, test_df, is_resized=False\n",
    ")"
   ]
  },
  {
   "cell_type": "code",
   "execution_count": 9,
   "id": "934df1bb",
   "metadata": {},
   "outputs": [
    {
     "name": "stdout",
     "output_type": "stream",
     "text": [
      "+----------------------------------------------+\n",
      "|           VARIETY FINAL PREDICTION           |\n",
      "+----------------------------------------------+\n",
      "109/109 [==============================] - 28s 242ms/step\n",
      "Predicted probabilities shape: (3469, 10)\n"
     ]
    }
   ],
   "source": [
    "vi.print_header(\"Variety Final Prediction\")\n",
    "variety_pred_probs = variety_model.predict(\n",
    "    wrap_generator(variety_generator), steps=len(variety_generator), verbose=1\n",
    ")\n",
    "\n",
    "print(\"Predicted probabilities shape:\", variety_pred_probs.shape)\n",
    "\n",
    "variety_pred_indices = np.argmax(variety_pred_probs, axis=1)\n",
    "variety_labels = [variety_classes[i] for i in variety_pred_indices]"
   ]
  },
  {
   "cell_type": "markdown",
   "id": "ca9f0d1b",
   "metadata": {},
   "source": [
    "## Save to data frame"
   ]
  },
  {
   "cell_type": "code",
   "execution_count": 10,
   "id": "8b91ee03",
   "metadata": {},
   "outputs": [
    {
     "ename": "NameError",
     "evalue": "name 'submission_df' is not defined",
     "output_type": "error",
     "traceback": [
      "\u001b[1;31m---------------------------------------------------------------------------\u001b[0m",
      "\u001b[1;31mNameError\u001b[0m                                 Traceback (most recent call last)",
      "Cell \u001b[1;32mIn[10], line 1\u001b[0m\n\u001b[1;32m----> 1\u001b[0m \u001b[43msubmission_df\u001b[49m[\u001b[38;5;124m\"\u001b[39m\u001b[38;5;124mvariety\u001b[39m\u001b[38;5;124m\"\u001b[39m] \u001b[38;5;241m=\u001b[39m variety_labels\n\u001b[0;32m      2\u001b[0m submission_df\n",
      "\u001b[1;31mNameError\u001b[0m: name 'submission_df' is not defined"
     ]
    }
   ],
   "source": [
    "submission_df[\"variety\"] = variety_labels\n",
    "submission_df"
   ]
  },
  {
   "cell_type": "markdown",
   "id": "d43ca46e",
   "metadata": {},
   "source": [
    "# Task 3: Age Final Prediction"
   ]
  },
  {
   "cell_type": "code",
   "execution_count": 9,
   "id": "5c1810c7",
   "metadata": {},
   "outputs": [
    {
     "name": "stdout",
     "output_type": "stream",
     "text": [
      "Model loaded from ./models/resnet50v2_best_model.keras\n",
      "Found 3469 validated image filenames.\n"
     ]
    }
   ],
   "source": [
    "agent_model_path = \"./models/resnet50v2_best_model.keras\"\n",
    "\n",
    "age_model, age_generator = load_and_prepare_model(\n",
    "    agent_model_path, test_df\n",
    ")"
   ]
  },
  {
   "cell_type": "code",
   "execution_count": 11,
   "id": "95bbb262",
   "metadata": {},
   "outputs": [
    {
     "name": "stdout",
     "output_type": "stream",
     "text": [
      "+------------------------------------------+\n",
      "|           AGE FINAL PREDICTION           |\n",
      "+------------------------------------------+\n",
      "\u001b[1m109/109\u001b[0m \u001b[32m━━━━━━━━━━━━━━━━━━━━\u001b[0m\u001b[37m\u001b[0m \u001b[1m43s\u001b[0m 399ms/step\n"
     ]
    }
   ],
   "source": [
    "vi.print_header(\"Age Final Prediction\")\n",
    "age_pred = age_model.predict(\n",
    "    wrap_generator(age_generator), steps=len(age_generator), verbose=1\n",
    ").flatten()"
   ]
  },
  {
   "cell_type": "markdown",
   "id": "3c8a8dde",
   "metadata": {},
   "source": [
    "## Save to data frame"
   ]
  },
  {
   "cell_type": "code",
   "execution_count": 15,
   "id": "7d3bbf88",
   "metadata": {},
   "outputs": [
    {
     "data": {
      "application/vnd.microsoft.datawrangler.viewer.v0+json": {
       "columns": [
        {
         "name": "index",
         "rawType": "int64",
         "type": "integer"
        },
        {
         "name": "image_id",
         "rawType": "object",
         "type": "string"
        },
        {
         "name": "age",
         "rawType": "float32",
         "type": "float"
        }
       ],
       "conversionMethod": "pd.DataFrame",
       "ref": "839826b7-a16b-409c-9be1-4ca5ffc678ea",
       "rows": [
        [
         "0",
         "200001.jpg",
         "69.0"
        ],
        [
         "1",
         "200002.jpg",
         "61.0"
        ],
        [
         "2",
         "200003.jpg",
         "56.0"
        ],
        [
         "3",
         "200004.jpg",
         "61.0"
        ],
        [
         "4",
         "200005.jpg",
         "70.0"
        ],
        [
         "5",
         "200006.jpg",
         "74.0"
        ],
        [
         "6",
         "200007.jpg",
         "71.0"
        ],
        [
         "7",
         "200008.jpg",
         "69.0"
        ],
        [
         "8",
         "200009.jpg",
         "56.0"
        ],
        [
         "9",
         "200010.jpg",
         "51.0"
        ],
        [
         "10",
         "200011.jpg",
         "70.0"
        ],
        [
         "11",
         "200012.jpg",
         "71.0"
        ],
        [
         "12",
         "200013.jpg",
         "57.0"
        ],
        [
         "13",
         "200014.jpg",
         "70.0"
        ],
        [
         "14",
         "200015.jpg",
         "71.0"
        ],
        [
         "15",
         "200016.jpg",
         "57.0"
        ],
        [
         "16",
         "200017.jpg",
         "68.0"
        ],
        [
         "17",
         "200018.jpg",
         "68.0"
        ],
        [
         "18",
         "200019.jpg",
         "73.0"
        ],
        [
         "19",
         "200020.jpg",
         "68.0"
        ],
        [
         "20",
         "200021.jpg",
         "52.0"
        ],
        [
         "21",
         "200022.jpg",
         "67.0"
        ],
        [
         "22",
         "200023.jpg",
         "74.0"
        ],
        [
         "23",
         "200024.jpg",
         "64.0"
        ],
        [
         "24",
         "200025.jpg",
         "70.0"
        ],
        [
         "25",
         "200026.jpg",
         "75.0"
        ],
        [
         "26",
         "200027.jpg",
         "55.0"
        ],
        [
         "27",
         "200028.jpg",
         "62.0"
        ],
        [
         "28",
         "200029.jpg",
         "69.0"
        ],
        [
         "29",
         "200030.jpg",
         "57.0"
        ],
        [
         "30",
         "200031.jpg",
         "50.0"
        ],
        [
         "31",
         "200032.jpg",
         "70.0"
        ],
        [
         "32",
         "200033.jpg",
         "58.0"
        ],
        [
         "33",
         "200034.jpg",
         "64.0"
        ],
        [
         "34",
         "200035.jpg",
         "70.0"
        ],
        [
         "35",
         "200036.jpg",
         "52.0"
        ],
        [
         "36",
         "200037.jpg",
         "68.0"
        ],
        [
         "37",
         "200038.jpg",
         "63.0"
        ],
        [
         "38",
         "200039.jpg",
         "70.0"
        ],
        [
         "39",
         "200040.jpg",
         "54.0"
        ],
        [
         "40",
         "200041.jpg",
         "69.0"
        ],
        [
         "41",
         "200042.jpg",
         "40.0"
        ],
        [
         "42",
         "200043.jpg",
         "66.0"
        ],
        [
         "43",
         "200044.jpg",
         "66.0"
        ],
        [
         "44",
         "200045.jpg",
         "67.0"
        ],
        [
         "45",
         "200046.jpg",
         "76.0"
        ],
        [
         "46",
         "200047.jpg",
         "69.0"
        ],
        [
         "47",
         "200048.jpg",
         "72.0"
        ],
        [
         "48",
         "200049.jpg",
         "65.0"
        ],
        [
         "49",
         "200050.jpg",
         "48.0"
        ]
       ],
       "shape": {
        "columns": 2,
        "rows": 3469
       }
      },
      "text/html": [
       "<div>\n",
       "<style scoped>\n",
       "    .dataframe tbody tr th:only-of-type {\n",
       "        vertical-align: middle;\n",
       "    }\n",
       "\n",
       "    .dataframe tbody tr th {\n",
       "        vertical-align: top;\n",
       "    }\n",
       "\n",
       "    .dataframe thead th {\n",
       "        text-align: right;\n",
       "    }\n",
       "</style>\n",
       "<table border=\"1\" class=\"dataframe\">\n",
       "  <thead>\n",
       "    <tr style=\"text-align: right;\">\n",
       "      <th></th>\n",
       "      <th>image_id</th>\n",
       "      <th>age</th>\n",
       "    </tr>\n",
       "  </thead>\n",
       "  <tbody>\n",
       "    <tr>\n",
       "      <th>0</th>\n",
       "      <td>200001.jpg</td>\n",
       "      <td>69.0</td>\n",
       "    </tr>\n",
       "    <tr>\n",
       "      <th>1</th>\n",
       "      <td>200002.jpg</td>\n",
       "      <td>61.0</td>\n",
       "    </tr>\n",
       "    <tr>\n",
       "      <th>2</th>\n",
       "      <td>200003.jpg</td>\n",
       "      <td>56.0</td>\n",
       "    </tr>\n",
       "    <tr>\n",
       "      <th>3</th>\n",
       "      <td>200004.jpg</td>\n",
       "      <td>61.0</td>\n",
       "    </tr>\n",
       "    <tr>\n",
       "      <th>4</th>\n",
       "      <td>200005.jpg</td>\n",
       "      <td>70.0</td>\n",
       "    </tr>\n",
       "    <tr>\n",
       "      <th>...</th>\n",
       "      <td>...</td>\n",
       "      <td>...</td>\n",
       "    </tr>\n",
       "    <tr>\n",
       "      <th>3464</th>\n",
       "      <td>203465.jpg</td>\n",
       "      <td>49.0</td>\n",
       "    </tr>\n",
       "    <tr>\n",
       "      <th>3465</th>\n",
       "      <td>203466.jpg</td>\n",
       "      <td>72.0</td>\n",
       "    </tr>\n",
       "    <tr>\n",
       "      <th>3466</th>\n",
       "      <td>203467.jpg</td>\n",
       "      <td>59.0</td>\n",
       "    </tr>\n",
       "    <tr>\n",
       "      <th>3467</th>\n",
       "      <td>203468.jpg</td>\n",
       "      <td>51.0</td>\n",
       "    </tr>\n",
       "    <tr>\n",
       "      <th>3468</th>\n",
       "      <td>203469.jpg</td>\n",
       "      <td>55.0</td>\n",
       "    </tr>\n",
       "  </tbody>\n",
       "</table>\n",
       "<p>3469 rows × 2 columns</p>\n",
       "</div>"
      ],
      "text/plain": [
       "        image_id   age\n",
       "0     200001.jpg  69.0\n",
       "1     200002.jpg  61.0\n",
       "2     200003.jpg  56.0\n",
       "3     200004.jpg  61.0\n",
       "4     200005.jpg  70.0\n",
       "...          ...   ...\n",
       "3464  203465.jpg  49.0\n",
       "3465  203466.jpg  72.0\n",
       "3466  203467.jpg  59.0\n",
       "3467  203468.jpg  51.0\n",
       "3468  203469.jpg  55.0\n",
       "\n",
       "[3469 rows x 2 columns]"
      ]
     },
     "execution_count": 15,
     "metadata": {},
     "output_type": "execute_result"
    }
   ],
   "source": [
    "age_pred = np.round(age_pred)\n",
    "submission_df[\"age\"] = age_pred\n",
    "submission_df"
   ]
  }
 ],
 "metadata": {
  "kernelspec": {
   "display_name": "tensorflow_env",
   "language": "python",
   "name": "python3"
  },
  "language_info": {
   "codemirror_mode": {
    "name": "ipython",
    "version": 3
   },
   "file_extension": ".py",
   "mimetype": "text/x-python",
   "name": "python",
   "nbconvert_exporter": "python",
   "pygments_lexer": "ipython3",
   "version": "3.10.13"
  }
 },
 "nbformat": 4,
 "nbformat_minor": 5
}
