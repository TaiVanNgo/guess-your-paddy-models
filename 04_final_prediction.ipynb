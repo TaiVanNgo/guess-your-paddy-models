{
 "cells": [
  {
   "cell_type": "markdown",
   "id": "3748e307",
   "metadata": {},
   "source": [
    "# <h1 align=\"center\">COSC2753 - Machine Learning</h1>\n",
    "\n",
    "<h2 align=\"center\">Final Prediction</h2>"
   ]
  },
  {
   "cell_type": "markdown",
   "id": "da89776b",
   "metadata": {},
   "source": [
    "# TABLE OF CONTENT\n",
    "\n"
   ]
  },
  {
   "cell_type": "markdown",
   "id": "253357f4",
   "metadata": {},
   "source": [
    "# IMPORT LIBRARIES"
   ]
  },
  {
   "cell_type": "code",
   "execution_count": 1,
   "id": "4415e3cd",
   "metadata": {},
   "outputs": [],
   "source": [
    "import os\n",
    "import pandas as pd\n",
    "import numpy as np\n",
    "import importlib\n",
    "import tensorflow as tf\n",
    "# Import custom libraries\n",
    "import utils.visualizations as vi\n",
    "\n",
    "importlib.reload(vi);"
   ]
  },
  {
   "cell_type": "code",
   "execution_count": 24,
   "id": "1e01a795",
   "metadata": {},
   "outputs": [],
   "source": [
    "from tensorflow.keras.models import load_model\n",
    "from tensorflow.keras.preprocessing.image import ImageDataGenerator"
   ]
  },
  {
   "cell_type": "code",
   "execution_count": 2,
   "id": "9a3086e8",
   "metadata": {},
   "outputs": [],
   "source": [
    "from keras.models import load_model\n",
    "from keras.src.legacy.preprocessing.image import ImageDataGenerator"
   ]
  },
  {
   "cell_type": "markdown",
   "id": "4a8d8c87",
   "metadata": {},
   "source": [
    "# Setup Necessary Variables"
   ]
  },
  {
   "cell_type": "code",
   "execution_count": 3,
   "id": "1bc0ee6d",
   "metadata": {},
   "outputs": [],
   "source": [
    "tf.keras.utils.set_random_seed(42)  \n",
    "\n",
    "OUTPUT_CLASSES = 10\n",
    "BATCH_SIZE = 32\n",
    "INPUT_DIM = (128, 128, 3)"
   ]
  },
  {
   "cell_type": "code",
   "execution_count": 4,
   "id": "e9b1f5c0",
   "metadata": {},
   "outputs": [],
   "source": [
    "# File paths\n",
    "test_df_path = \"./inputs/prediction_submission.csv\"\n",
    "output_file = \"./inputs/COSC2753_A2_S2_G2.csv\"\n",
    "test_dir = \"./inputs/test_images\""
   ]
  },
  {
   "cell_type": "code",
   "execution_count": 5,
   "id": "46381118",
   "metadata": {},
   "outputs": [
    {
     "data": {
      "application/vnd.microsoft.datawrangler.viewer.v0+json": {
       "columns": [
        {
         "name": "index",
         "rawType": "int64",
         "type": "integer"
        },
        {
         "name": "image_id",
         "rawType": "object",
         "type": "string"
        },
        {
         "name": "label",
         "rawType": "float64",
         "type": "float"
        },
        {
         "name": "variety",
         "rawType": "float64",
         "type": "float"
        },
        {
         "name": "age",
         "rawType": "float64",
         "type": "float"
        },
        {
         "name": "image_path",
         "rawType": "object",
         "type": "string"
        }
       ],
       "conversionMethod": "pd.DataFrame",
       "ref": "2faabb27-4ba7-4a92-98e4-179994fc69e0",
       "rows": [
        [
         "0",
         "200001.jpg",
         null,
         null,
         null,
         "./inputs/test_images\\200001.jpg"
        ],
        [
         "1",
         "200002.jpg",
         null,
         null,
         null,
         "./inputs/test_images\\200002.jpg"
        ],
        [
         "2",
         "200003.jpg",
         null,
         null,
         null,
         "./inputs/test_images\\200003.jpg"
        ],
        [
         "3",
         "200004.jpg",
         null,
         null,
         null,
         "./inputs/test_images\\200004.jpg"
        ],
        [
         "4",
         "200005.jpg",
         null,
         null,
         null,
         "./inputs/test_images\\200005.jpg"
        ],
        [
         "5",
         "200006.jpg",
         null,
         null,
         null,
         "./inputs/test_images\\200006.jpg"
        ],
        [
         "6",
         "200007.jpg",
         null,
         null,
         null,
         "./inputs/test_images\\200007.jpg"
        ],
        [
         "7",
         "200008.jpg",
         null,
         null,
         null,
         "./inputs/test_images\\200008.jpg"
        ],
        [
         "8",
         "200009.jpg",
         null,
         null,
         null,
         "./inputs/test_images\\200009.jpg"
        ],
        [
         "9",
         "200010.jpg",
         null,
         null,
         null,
         "./inputs/test_images\\200010.jpg"
        ],
        [
         "10",
         "200011.jpg",
         null,
         null,
         null,
         "./inputs/test_images\\200011.jpg"
        ],
        [
         "11",
         "200012.jpg",
         null,
         null,
         null,
         "./inputs/test_images\\200012.jpg"
        ],
        [
         "12",
         "200013.jpg",
         null,
         null,
         null,
         "./inputs/test_images\\200013.jpg"
        ],
        [
         "13",
         "200014.jpg",
         null,
         null,
         null,
         "./inputs/test_images\\200014.jpg"
        ],
        [
         "14",
         "200015.jpg",
         null,
         null,
         null,
         "./inputs/test_images\\200015.jpg"
        ],
        [
         "15",
         "200016.jpg",
         null,
         null,
         null,
         "./inputs/test_images\\200016.jpg"
        ],
        [
         "16",
         "200017.jpg",
         null,
         null,
         null,
         "./inputs/test_images\\200017.jpg"
        ],
        [
         "17",
         "200018.jpg",
         null,
         null,
         null,
         "./inputs/test_images\\200018.jpg"
        ],
        [
         "18",
         "200019.jpg",
         null,
         null,
         null,
         "./inputs/test_images\\200019.jpg"
        ],
        [
         "19",
         "200020.jpg",
         null,
         null,
         null,
         "./inputs/test_images\\200020.jpg"
        ],
        [
         "20",
         "200021.jpg",
         null,
         null,
         null,
         "./inputs/test_images\\200021.jpg"
        ],
        [
         "21",
         "200022.jpg",
         null,
         null,
         null,
         "./inputs/test_images\\200022.jpg"
        ],
        [
         "22",
         "200023.jpg",
         null,
         null,
         null,
         "./inputs/test_images\\200023.jpg"
        ],
        [
         "23",
         "200024.jpg",
         null,
         null,
         null,
         "./inputs/test_images\\200024.jpg"
        ],
        [
         "24",
         "200025.jpg",
         null,
         null,
         null,
         "./inputs/test_images\\200025.jpg"
        ],
        [
         "25",
         "200026.jpg",
         null,
         null,
         null,
         "./inputs/test_images\\200026.jpg"
        ],
        [
         "26",
         "200027.jpg",
         null,
         null,
         null,
         "./inputs/test_images\\200027.jpg"
        ],
        [
         "27",
         "200028.jpg",
         null,
         null,
         null,
         "./inputs/test_images\\200028.jpg"
        ],
        [
         "28",
         "200029.jpg",
         null,
         null,
         null,
         "./inputs/test_images\\200029.jpg"
        ],
        [
         "29",
         "200030.jpg",
         null,
         null,
         null,
         "./inputs/test_images\\200030.jpg"
        ],
        [
         "30",
         "200031.jpg",
         null,
         null,
         null,
         "./inputs/test_images\\200031.jpg"
        ],
        [
         "31",
         "200032.jpg",
         null,
         null,
         null,
         "./inputs/test_images\\200032.jpg"
        ],
        [
         "32",
         "200033.jpg",
         null,
         null,
         null,
         "./inputs/test_images\\200033.jpg"
        ],
        [
         "33",
         "200034.jpg",
         null,
         null,
         null,
         "./inputs/test_images\\200034.jpg"
        ],
        [
         "34",
         "200035.jpg",
         null,
         null,
         null,
         "./inputs/test_images\\200035.jpg"
        ],
        [
         "35",
         "200036.jpg",
         null,
         null,
         null,
         "./inputs/test_images\\200036.jpg"
        ],
        [
         "36",
         "200037.jpg",
         null,
         null,
         null,
         "./inputs/test_images\\200037.jpg"
        ],
        [
         "37",
         "200038.jpg",
         null,
         null,
         null,
         "./inputs/test_images\\200038.jpg"
        ],
        [
         "38",
         "200039.jpg",
         null,
         null,
         null,
         "./inputs/test_images\\200039.jpg"
        ],
        [
         "39",
         "200040.jpg",
         null,
         null,
         null,
         "./inputs/test_images\\200040.jpg"
        ],
        [
         "40",
         "200041.jpg",
         null,
         null,
         null,
         "./inputs/test_images\\200041.jpg"
        ],
        [
         "41",
         "200042.jpg",
         null,
         null,
         null,
         "./inputs/test_images\\200042.jpg"
        ],
        [
         "42",
         "200043.jpg",
         null,
         null,
         null,
         "./inputs/test_images\\200043.jpg"
        ],
        [
         "43",
         "200044.jpg",
         null,
         null,
         null,
         "./inputs/test_images\\200044.jpg"
        ],
        [
         "44",
         "200045.jpg",
         null,
         null,
         null,
         "./inputs/test_images\\200045.jpg"
        ],
        [
         "45",
         "200046.jpg",
         null,
         null,
         null,
         "./inputs/test_images\\200046.jpg"
        ],
        [
         "46",
         "200047.jpg",
         null,
         null,
         null,
         "./inputs/test_images\\200047.jpg"
        ],
        [
         "47",
         "200048.jpg",
         null,
         null,
         null,
         "./inputs/test_images\\200048.jpg"
        ],
        [
         "48",
         "200049.jpg",
         null,
         null,
         null,
         "./inputs/test_images\\200049.jpg"
        ],
        [
         "49",
         "200050.jpg",
         null,
         null,
         null,
         "./inputs/test_images\\200050.jpg"
        ]
       ],
       "shape": {
        "columns": 5,
        "rows": 3469
       }
      },
      "text/html": [
       "<div>\n",
       "<style scoped>\n",
       "    .dataframe tbody tr th:only-of-type {\n",
       "        vertical-align: middle;\n",
       "    }\n",
       "\n",
       "    .dataframe tbody tr th {\n",
       "        vertical-align: top;\n",
       "    }\n",
       "\n",
       "    .dataframe thead th {\n",
       "        text-align: right;\n",
       "    }\n",
       "</style>\n",
       "<table border=\"1\" class=\"dataframe\">\n",
       "  <thead>\n",
       "    <tr style=\"text-align: right;\">\n",
       "      <th></th>\n",
       "      <th>image_id</th>\n",
       "      <th>label</th>\n",
       "      <th>variety</th>\n",
       "      <th>age</th>\n",
       "      <th>image_path</th>\n",
       "    </tr>\n",
       "  </thead>\n",
       "  <tbody>\n",
       "    <tr>\n",
       "      <th>0</th>\n",
       "      <td>200001.jpg</td>\n",
       "      <td>NaN</td>\n",
       "      <td>NaN</td>\n",
       "      <td>NaN</td>\n",
       "      <td>./inputs/test_images\\200001.jpg</td>\n",
       "    </tr>\n",
       "    <tr>\n",
       "      <th>1</th>\n",
       "      <td>200002.jpg</td>\n",
       "      <td>NaN</td>\n",
       "      <td>NaN</td>\n",
       "      <td>NaN</td>\n",
       "      <td>./inputs/test_images\\200002.jpg</td>\n",
       "    </tr>\n",
       "    <tr>\n",
       "      <th>2</th>\n",
       "      <td>200003.jpg</td>\n",
       "      <td>NaN</td>\n",
       "      <td>NaN</td>\n",
       "      <td>NaN</td>\n",
       "      <td>./inputs/test_images\\200003.jpg</td>\n",
       "    </tr>\n",
       "    <tr>\n",
       "      <th>3</th>\n",
       "      <td>200004.jpg</td>\n",
       "      <td>NaN</td>\n",
       "      <td>NaN</td>\n",
       "      <td>NaN</td>\n",
       "      <td>./inputs/test_images\\200004.jpg</td>\n",
       "    </tr>\n",
       "    <tr>\n",
       "      <th>4</th>\n",
       "      <td>200005.jpg</td>\n",
       "      <td>NaN</td>\n",
       "      <td>NaN</td>\n",
       "      <td>NaN</td>\n",
       "      <td>./inputs/test_images\\200005.jpg</td>\n",
       "    </tr>\n",
       "    <tr>\n",
       "      <th>...</th>\n",
       "      <td>...</td>\n",
       "      <td>...</td>\n",
       "      <td>...</td>\n",
       "      <td>...</td>\n",
       "      <td>...</td>\n",
       "    </tr>\n",
       "    <tr>\n",
       "      <th>3464</th>\n",
       "      <td>203465.jpg</td>\n",
       "      <td>NaN</td>\n",
       "      <td>NaN</td>\n",
       "      <td>NaN</td>\n",
       "      <td>./inputs/test_images\\203465.jpg</td>\n",
       "    </tr>\n",
       "    <tr>\n",
       "      <th>3465</th>\n",
       "      <td>203466.jpg</td>\n",
       "      <td>NaN</td>\n",
       "      <td>NaN</td>\n",
       "      <td>NaN</td>\n",
       "      <td>./inputs/test_images\\203466.jpg</td>\n",
       "    </tr>\n",
       "    <tr>\n",
       "      <th>3466</th>\n",
       "      <td>203467.jpg</td>\n",
       "      <td>NaN</td>\n",
       "      <td>NaN</td>\n",
       "      <td>NaN</td>\n",
       "      <td>./inputs/test_images\\203467.jpg</td>\n",
       "    </tr>\n",
       "    <tr>\n",
       "      <th>3467</th>\n",
       "      <td>203468.jpg</td>\n",
       "      <td>NaN</td>\n",
       "      <td>NaN</td>\n",
       "      <td>NaN</td>\n",
       "      <td>./inputs/test_images\\203468.jpg</td>\n",
       "    </tr>\n",
       "    <tr>\n",
       "      <th>3468</th>\n",
       "      <td>203469.jpg</td>\n",
       "      <td>NaN</td>\n",
       "      <td>NaN</td>\n",
       "      <td>NaN</td>\n",
       "      <td>./inputs/test_images\\203469.jpg</td>\n",
       "    </tr>\n",
       "  </tbody>\n",
       "</table>\n",
       "<p>3469 rows × 5 columns</p>\n",
       "</div>"
      ],
      "text/plain": [
       "        image_id  label  variety  age                       image_path\n",
       "0     200001.jpg    NaN      NaN  NaN  ./inputs/test_images\\200001.jpg\n",
       "1     200002.jpg    NaN      NaN  NaN  ./inputs/test_images\\200002.jpg\n",
       "2     200003.jpg    NaN      NaN  NaN  ./inputs/test_images\\200003.jpg\n",
       "3     200004.jpg    NaN      NaN  NaN  ./inputs/test_images\\200004.jpg\n",
       "4     200005.jpg    NaN      NaN  NaN  ./inputs/test_images\\200005.jpg\n",
       "...          ...    ...      ...  ...                              ...\n",
       "3464  203465.jpg    NaN      NaN  NaN  ./inputs/test_images\\203465.jpg\n",
       "3465  203466.jpg    NaN      NaN  NaN  ./inputs/test_images\\203466.jpg\n",
       "3466  203467.jpg    NaN      NaN  NaN  ./inputs/test_images\\203467.jpg\n",
       "3467  203468.jpg    NaN      NaN  NaN  ./inputs/test_images\\203468.jpg\n",
       "3468  203469.jpg    NaN      NaN  NaN  ./inputs/test_images\\203469.jpg\n",
       "\n",
       "[3469 rows x 5 columns]"
      ]
     },
     "execution_count": 5,
     "metadata": {},
     "output_type": "execute_result"
    }
   ],
   "source": [
    "original_test_df = pd.read_csv(test_df_path)\n",
    "\n",
    "test_df = original_test_df.copy()\n",
    "train_df = pd.read_csv(\"./inputs/training_df.csv\")\n",
    "\n",
    "# Add full image paths\n",
    "test_df[\"image_path\"] = test_df[\"image_id\"].apply(lambda x: os.path.join(test_dir, x))\n",
    "\n",
    "test_df"
   ]
  },
  {
   "cell_type": "markdown",
   "id": "c01e94ad",
   "metadata": {},
   "source": [
    "# Setup Submission Data Frame"
   ]
  },
  {
   "cell_type": "code",
   "execution_count": 6,
   "id": "a8bbc759",
   "metadata": {},
   "outputs": [
    {
     "data": {
      "application/vnd.microsoft.datawrangler.viewer.v0+json": {
       "columns": [
        {
         "name": "index",
         "rawType": "int64",
         "type": "integer"
        },
        {
         "name": "image_id",
         "rawType": "object",
         "type": "string"
        },
        {
         "name": "label",
         "rawType": "float64",
         "type": "float"
        },
        {
         "name": "variety",
         "rawType": "float64",
         "type": "float"
        },
        {
         "name": "age",
         "rawType": "float64",
         "type": "float"
        }
       ],
       "conversionMethod": "pd.DataFrame",
       "ref": "f494ed19-1e1c-4115-a8dc-a12a1773ef71",
       "rows": [
        [
         "0",
         "200001.jpg",
         null,
         null,
         null
        ],
        [
         "1",
         "200002.jpg",
         null,
         null,
         null
        ],
        [
         "2",
         "200003.jpg",
         null,
         null,
         null
        ],
        [
         "3",
         "200004.jpg",
         null,
         null,
         null
        ],
        [
         "4",
         "200005.jpg",
         null,
         null,
         null
        ],
        [
         "5",
         "200006.jpg",
         null,
         null,
         null
        ],
        [
         "6",
         "200007.jpg",
         null,
         null,
         null
        ],
        [
         "7",
         "200008.jpg",
         null,
         null,
         null
        ],
        [
         "8",
         "200009.jpg",
         null,
         null,
         null
        ],
        [
         "9",
         "200010.jpg",
         null,
         null,
         null
        ],
        [
         "10",
         "200011.jpg",
         null,
         null,
         null
        ],
        [
         "11",
         "200012.jpg",
         null,
         null,
         null
        ],
        [
         "12",
         "200013.jpg",
         null,
         null,
         null
        ],
        [
         "13",
         "200014.jpg",
         null,
         null,
         null
        ],
        [
         "14",
         "200015.jpg",
         null,
         null,
         null
        ],
        [
         "15",
         "200016.jpg",
         null,
         null,
         null
        ],
        [
         "16",
         "200017.jpg",
         null,
         null,
         null
        ],
        [
         "17",
         "200018.jpg",
         null,
         null,
         null
        ],
        [
         "18",
         "200019.jpg",
         null,
         null,
         null
        ],
        [
         "19",
         "200020.jpg",
         null,
         null,
         null
        ],
        [
         "20",
         "200021.jpg",
         null,
         null,
         null
        ],
        [
         "21",
         "200022.jpg",
         null,
         null,
         null
        ],
        [
         "22",
         "200023.jpg",
         null,
         null,
         null
        ],
        [
         "23",
         "200024.jpg",
         null,
         null,
         null
        ],
        [
         "24",
         "200025.jpg",
         null,
         null,
         null
        ],
        [
         "25",
         "200026.jpg",
         null,
         null,
         null
        ],
        [
         "26",
         "200027.jpg",
         null,
         null,
         null
        ],
        [
         "27",
         "200028.jpg",
         null,
         null,
         null
        ],
        [
         "28",
         "200029.jpg",
         null,
         null,
         null
        ],
        [
         "29",
         "200030.jpg",
         null,
         null,
         null
        ],
        [
         "30",
         "200031.jpg",
         null,
         null,
         null
        ],
        [
         "31",
         "200032.jpg",
         null,
         null,
         null
        ],
        [
         "32",
         "200033.jpg",
         null,
         null,
         null
        ],
        [
         "33",
         "200034.jpg",
         null,
         null,
         null
        ],
        [
         "34",
         "200035.jpg",
         null,
         null,
         null
        ],
        [
         "35",
         "200036.jpg",
         null,
         null,
         null
        ],
        [
         "36",
         "200037.jpg",
         null,
         null,
         null
        ],
        [
         "37",
         "200038.jpg",
         null,
         null,
         null
        ],
        [
         "38",
         "200039.jpg",
         null,
         null,
         null
        ],
        [
         "39",
         "200040.jpg",
         null,
         null,
         null
        ],
        [
         "40",
         "200041.jpg",
         null,
         null,
         null
        ],
        [
         "41",
         "200042.jpg",
         null,
         null,
         null
        ],
        [
         "42",
         "200043.jpg",
         null,
         null,
         null
        ],
        [
         "43",
         "200044.jpg",
         null,
         null,
         null
        ],
        [
         "44",
         "200045.jpg",
         null,
         null,
         null
        ],
        [
         "45",
         "200046.jpg",
         null,
         null,
         null
        ],
        [
         "46",
         "200047.jpg",
         null,
         null,
         null
        ],
        [
         "47",
         "200048.jpg",
         null,
         null,
         null
        ],
        [
         "48",
         "200049.jpg",
         null,
         null,
         null
        ],
        [
         "49",
         "200050.jpg",
         null,
         null,
         null
        ]
       ],
       "shape": {
        "columns": 4,
        "rows": 3469
       }
      },
      "text/html": [
       "<div>\n",
       "<style scoped>\n",
       "    .dataframe tbody tr th:only-of-type {\n",
       "        vertical-align: middle;\n",
       "    }\n",
       "\n",
       "    .dataframe tbody tr th {\n",
       "        vertical-align: top;\n",
       "    }\n",
       "\n",
       "    .dataframe thead th {\n",
       "        text-align: right;\n",
       "    }\n",
       "</style>\n",
       "<table border=\"1\" class=\"dataframe\">\n",
       "  <thead>\n",
       "    <tr style=\"text-align: right;\">\n",
       "      <th></th>\n",
       "      <th>image_id</th>\n",
       "      <th>label</th>\n",
       "      <th>variety</th>\n",
       "      <th>age</th>\n",
       "    </tr>\n",
       "  </thead>\n",
       "  <tbody>\n",
       "    <tr>\n",
       "      <th>0</th>\n",
       "      <td>200001.jpg</td>\n",
       "      <td>NaN</td>\n",
       "      <td>NaN</td>\n",
       "      <td>NaN</td>\n",
       "    </tr>\n",
       "    <tr>\n",
       "      <th>1</th>\n",
       "      <td>200002.jpg</td>\n",
       "      <td>NaN</td>\n",
       "      <td>NaN</td>\n",
       "      <td>NaN</td>\n",
       "    </tr>\n",
       "    <tr>\n",
       "      <th>2</th>\n",
       "      <td>200003.jpg</td>\n",
       "      <td>NaN</td>\n",
       "      <td>NaN</td>\n",
       "      <td>NaN</td>\n",
       "    </tr>\n",
       "    <tr>\n",
       "      <th>3</th>\n",
       "      <td>200004.jpg</td>\n",
       "      <td>NaN</td>\n",
       "      <td>NaN</td>\n",
       "      <td>NaN</td>\n",
       "    </tr>\n",
       "    <tr>\n",
       "      <th>4</th>\n",
       "      <td>200005.jpg</td>\n",
       "      <td>NaN</td>\n",
       "      <td>NaN</td>\n",
       "      <td>NaN</td>\n",
       "    </tr>\n",
       "    <tr>\n",
       "      <th>...</th>\n",
       "      <td>...</td>\n",
       "      <td>...</td>\n",
       "      <td>...</td>\n",
       "      <td>...</td>\n",
       "    </tr>\n",
       "    <tr>\n",
       "      <th>3464</th>\n",
       "      <td>203465.jpg</td>\n",
       "      <td>NaN</td>\n",
       "      <td>NaN</td>\n",
       "      <td>NaN</td>\n",
       "    </tr>\n",
       "    <tr>\n",
       "      <th>3465</th>\n",
       "      <td>203466.jpg</td>\n",
       "      <td>NaN</td>\n",
       "      <td>NaN</td>\n",
       "      <td>NaN</td>\n",
       "    </tr>\n",
       "    <tr>\n",
       "      <th>3466</th>\n",
       "      <td>203467.jpg</td>\n",
       "      <td>NaN</td>\n",
       "      <td>NaN</td>\n",
       "      <td>NaN</td>\n",
       "    </tr>\n",
       "    <tr>\n",
       "      <th>3467</th>\n",
       "      <td>203468.jpg</td>\n",
       "      <td>NaN</td>\n",
       "      <td>NaN</td>\n",
       "      <td>NaN</td>\n",
       "    </tr>\n",
       "    <tr>\n",
       "      <th>3468</th>\n",
       "      <td>203469.jpg</td>\n",
       "      <td>NaN</td>\n",
       "      <td>NaN</td>\n",
       "      <td>NaN</td>\n",
       "    </tr>\n",
       "  </tbody>\n",
       "</table>\n",
       "<p>3469 rows × 4 columns</p>\n",
       "</div>"
      ],
      "text/plain": [
       "        image_id  label  variety  age\n",
       "0     200001.jpg    NaN      NaN  NaN\n",
       "1     200002.jpg    NaN      NaN  NaN\n",
       "2     200003.jpg    NaN      NaN  NaN\n",
       "3     200004.jpg    NaN      NaN  NaN\n",
       "4     200005.jpg    NaN      NaN  NaN\n",
       "...          ...    ...      ...  ...\n",
       "3464  203465.jpg    NaN      NaN  NaN\n",
       "3465  203466.jpg    NaN      NaN  NaN\n",
       "3466  203467.jpg    NaN      NaN  NaN\n",
       "3467  203468.jpg    NaN      NaN  NaN\n",
       "3468  203469.jpg    NaN      NaN  NaN\n",
       "\n",
       "[3469 rows x 4 columns]"
      ]
     },
     "execution_count": 6,
     "metadata": {},
     "output_type": "execute_result"
    }
   ],
   "source": [
    "submission_df = test_df.copy()\n",
    "submission_df.drop(columns=[\"image_path\"], inplace=True)\n",
    "submission_df"
   ]
  },
  {
   "cell_type": "code",
   "execution_count": 7,
   "id": "b8d881ae",
   "metadata": {},
   "outputs": [],
   "source": [
    "def load_and_prepare_model(\n",
    "    model_path, test_df, is_resized=True, target_size=(128, 128)\n",
    "):\n",
    "    # Load training data\n",
    "    if not os.path.exists(model_path):\n",
    "        print(f\"[ERROR] Model not found at {model_path}\")\n",
    "        return None, None, None\n",
    "\n",
    "    # Load the model\n",
    "    if not os.path.exists(model_path):\n",
    "        print(\"[ERROR] Model not found at {model_path}\")\n",
    "        return None, None, None\n",
    "\n",
    "    model = load_model(model_path)\n",
    "    print(f\"Model loaded from {model_path}\")\n",
    "\n",
    "    datagen = ImageDataGenerator(\n",
    "        rescale=1.0 / 255.0 if is_resized else None, data_format=\"channels_last\"\n",
    "    )\n",
    "\n",
    "    # Create a generator for predictions\n",
    "    generator = datagen.flow_from_dataframe(\n",
    "        dataframe=test_df,\n",
    "        directory=\"\",\n",
    "        x_col=\"image_path\",\n",
    "        y_col=None,\n",
    "        target_size=target_size,\n",
    "        batch_size=BATCH_SIZE,\n",
    "        class_mode=None,\n",
    "        shuffle=False,\n",
    "    )\n",
    "\n",
    "    return model, generator"
   ]
  },
  {
   "cell_type": "code",
   "execution_count": 8,
   "id": "1b19010f",
   "metadata": {},
   "outputs": [],
   "source": [
    "def wrap_generator(gen):\n",
    "    for batch in gen:\n",
    "        yield (batch,)  "
   ]
  },
  {
   "cell_type": "markdown",
   "id": "91dfb70c",
   "metadata": {},
   "source": [
    "# Task 1: Disease Classification Final Prediction"
   ]
  },
  {
   "cell_type": "code",
   "execution_count": 10,
   "id": "f6ed3c69",
   "metadata": {},
   "outputs": [
    {
     "name": "stdout",
     "output_type": "stream",
     "text": [
      "Model loaded from ./models/vgg_best.keras\n",
      "Found 3469 validated image filenames.\n"
     ]
    }
   ],
   "source": [
    "disease_model_path = \"./models/vgg_best.keras\"\n",
    "disease_classes = {\n",
    "    0: \"bacterial_leaf_blight\",\n",
    "    1: \"bacterial_leaf_streak\",\n",
    "    2: \"bacterial_panicle_blight\",\n",
    "    3: \"blast\",\n",
    "    4: \"brown_spot\",\n",
    "    5: \"dead_heart\",\n",
    "    6: \"downy_mildew\",\n",
    "    7: \"hispa\",\n",
    "    8: \"normal\",\n",
    "    9: \"tungro\",\n",
    "}\n",
    "\n",
    "\n",
    "disease_model, disease_generator = load_and_prepare_model(\n",
    "    disease_model_path,\n",
    "    test_df,\n",
    ")"
   ]
  },
  {
   "cell_type": "code",
   "execution_count": 11,
   "id": "dbfcab59",
   "metadata": {},
   "outputs": [
    {
     "name": "stdout",
     "output_type": "stream",
     "text": [
      "+----------------------------------------------+\n",
      "|           DISEASE FINAL PREDICTION           |\n",
      "+----------------------------------------------+\n",
      "\u001b[1m109/109\u001b[0m \u001b[32m━━━━━━━━━━━━━━━━━━━━\u001b[0m\u001b[37m\u001b[0m \u001b[1m38s\u001b[0m 343ms/step\n",
      "Predicted probabilities shape: (3469, 10)\n"
     ]
    }
   ],
   "source": [
    "vi.print_header(\"Disease Final Prediction\")\n",
    "disease_generator.reset()\n",
    "disease_pred_probs = disease_model.predict(\n",
    "    wrap_generator(disease_generator), steps=len(disease_generator), verbose=1\n",
    ")\n",
    "\n",
    "print(\"Predicted probabilities shape:\", disease_pred_probs.shape)\n",
    "\n",
    "disease_pred_indices = np.argmax(disease_pred_probs, axis=1)\n",
    "disease_labels = [disease_classes[i] for i in disease_pred_indices]"
   ]
  },
  {
   "cell_type": "markdown",
   "id": "9ee8f186",
   "metadata": {},
   "source": [
    "## Save to data frame"
   ]
  },
  {
   "cell_type": "code",
   "execution_count": 15,
   "id": "8f90b175",
   "metadata": {},
   "outputs": [
    {
     "data": {
      "application/vnd.microsoft.datawrangler.viewer.v0+json": {
       "columns": [
        {
         "name": "index",
         "rawType": "int64",
         "type": "integer"
        },
        {
         "name": "image_id",
         "rawType": "object",
         "type": "string"
        },
        {
         "name": "label",
         "rawType": "object",
         "type": "string"
        },
        {
         "name": "variety",
         "rawType": "float64",
         "type": "float"
        },
        {
         "name": "age",
         "rawType": "float64",
         "type": "float"
        }
       ],
       "ref": "8f14820f-b660-476f-aca0-454e24244ece",
       "rows": [
        [
         "0",
         "200001.jpg",
         "hispa",
         null,
         null
        ],
        [
         "1",
         "200002.jpg",
         "normal",
         null,
         null
        ],
        [
         "2",
         "200003.jpg",
         "blast",
         null,
         null
        ],
        [
         "3",
         "200004.jpg",
         "blast",
         null,
         null
        ],
        [
         "4",
         "200005.jpg",
         "blast",
         null,
         null
        ],
        [
         "5",
         "200006.jpg",
         "brown_spot",
         null,
         null
        ],
        [
         "6",
         "200007.jpg",
         "dead_heart",
         null,
         null
        ],
        [
         "7",
         "200008.jpg",
         "normal",
         null,
         null
        ],
        [
         "8",
         "200009.jpg",
         "hispa",
         null,
         null
        ],
        [
         "9",
         "200010.jpg",
         "normal",
         null,
         null
        ],
        [
         "10",
         "200011.jpg",
         "dead_heart",
         null,
         null
        ],
        [
         "11",
         "200012.jpg",
         "hispa",
         null,
         null
        ],
        [
         "12",
         "200013.jpg",
         "normal",
         null,
         null
        ],
        [
         "13",
         "200014.jpg",
         "dead_heart",
         null,
         null
        ],
        [
         "14",
         "200015.jpg",
         "normal",
         null,
         null
        ],
        [
         "15",
         "200016.jpg",
         "blast",
         null,
         null
        ],
        [
         "16",
         "200017.jpg",
         "blast",
         null,
         null
        ],
        [
         "17",
         "200018.jpg",
         "hispa",
         null,
         null
        ],
        [
         "18",
         "200019.jpg",
         "dead_heart",
         null,
         null
        ],
        [
         "19",
         "200020.jpg",
         "dead_heart",
         null,
         null
        ],
        [
         "20",
         "200021.jpg",
         "bacterial_panicle_blight",
         null,
         null
        ],
        [
         "21",
         "200022.jpg",
         "tungro",
         null,
         null
        ],
        [
         "22",
         "200023.jpg",
         "bacterial_leaf_blight",
         null,
         null
        ],
        [
         "23",
         "200024.jpg",
         "blast",
         null,
         null
        ],
        [
         "24",
         "200025.jpg",
         "blast",
         null,
         null
        ],
        [
         "25",
         "200026.jpg",
         "hispa",
         null,
         null
        ],
        [
         "26",
         "200027.jpg",
         "blast",
         null,
         null
        ],
        [
         "27",
         "200028.jpg",
         "brown_spot",
         null,
         null
        ],
        [
         "28",
         "200029.jpg",
         "dead_heart",
         null,
         null
        ],
        [
         "29",
         "200030.jpg",
         "bacterial_leaf_streak",
         null,
         null
        ],
        [
         "30",
         "200031.jpg",
         "hispa",
         null,
         null
        ],
        [
         "31",
         "200032.jpg",
         "dead_heart",
         null,
         null
        ],
        [
         "32",
         "200033.jpg",
         "brown_spot",
         null,
         null
        ],
        [
         "33",
         "200034.jpg",
         "brown_spot",
         null,
         null
        ],
        [
         "34",
         "200035.jpg",
         "dead_heart",
         null,
         null
        ],
        [
         "35",
         "200036.jpg",
         "hispa",
         null,
         null
        ],
        [
         "36",
         "200037.jpg",
         "bacterial_leaf_blight",
         null,
         null
        ],
        [
         "37",
         "200038.jpg",
         "tungro",
         null,
         null
        ],
        [
         "38",
         "200039.jpg",
         "dead_heart",
         null,
         null
        ],
        [
         "39",
         "200040.jpg",
         "tungro",
         null,
         null
        ],
        [
         "40",
         "200041.jpg",
         "tungro",
         null,
         null
        ],
        [
         "41",
         "200042.jpg",
         "hispa",
         null,
         null
        ],
        [
         "42",
         "200043.jpg",
         "bacterial_leaf_streak",
         null,
         null
        ],
        [
         "43",
         "200044.jpg",
         "hispa",
         null,
         null
        ],
        [
         "44",
         "200045.jpg",
         "bacterial_leaf_blight",
         null,
         null
        ],
        [
         "45",
         "200046.jpg",
         "bacterial_leaf_blight",
         null,
         null
        ],
        [
         "46",
         "200047.jpg",
         "blast",
         null,
         null
        ],
        [
         "47",
         "200048.jpg",
         "brown_spot",
         null,
         null
        ],
        [
         "48",
         "200049.jpg",
         "bacterial_panicle_blight",
         null,
         null
        ],
        [
         "49",
         "200050.jpg",
         "dead_heart",
         null,
         null
        ]
       ],
       "shape": {
        "columns": 4,
        "rows": 3469
       }
      },
      "text/html": [
       "<div>\n",
       "<style scoped>\n",
       "    .dataframe tbody tr th:only-of-type {\n",
       "        vertical-align: middle;\n",
       "    }\n",
       "\n",
       "    .dataframe tbody tr th {\n",
       "        vertical-align: top;\n",
       "    }\n",
       "\n",
       "    .dataframe thead th {\n",
       "        text-align: right;\n",
       "    }\n",
       "</style>\n",
       "<table border=\"1\" class=\"dataframe\">\n",
       "  <thead>\n",
       "    <tr style=\"text-align: right;\">\n",
       "      <th></th>\n",
       "      <th>image_id</th>\n",
       "      <th>label</th>\n",
       "      <th>variety</th>\n",
       "      <th>age</th>\n",
       "    </tr>\n",
       "  </thead>\n",
       "  <tbody>\n",
       "    <tr>\n",
       "      <th>0</th>\n",
       "      <td>200001.jpg</td>\n",
       "      <td>hispa</td>\n",
       "      <td>NaN</td>\n",
       "      <td>NaN</td>\n",
       "    </tr>\n",
       "    <tr>\n",
       "      <th>1</th>\n",
       "      <td>200002.jpg</td>\n",
       "      <td>normal</td>\n",
       "      <td>NaN</td>\n",
       "      <td>NaN</td>\n",
       "    </tr>\n",
       "    <tr>\n",
       "      <th>2</th>\n",
       "      <td>200003.jpg</td>\n",
       "      <td>blast</td>\n",
       "      <td>NaN</td>\n",
       "      <td>NaN</td>\n",
       "    </tr>\n",
       "    <tr>\n",
       "      <th>3</th>\n",
       "      <td>200004.jpg</td>\n",
       "      <td>blast</td>\n",
       "      <td>NaN</td>\n",
       "      <td>NaN</td>\n",
       "    </tr>\n",
       "    <tr>\n",
       "      <th>4</th>\n",
       "      <td>200005.jpg</td>\n",
       "      <td>blast</td>\n",
       "      <td>NaN</td>\n",
       "      <td>NaN</td>\n",
       "    </tr>\n",
       "    <tr>\n",
       "      <th>...</th>\n",
       "      <td>...</td>\n",
       "      <td>...</td>\n",
       "      <td>...</td>\n",
       "      <td>...</td>\n",
       "    </tr>\n",
       "    <tr>\n",
       "      <th>3464</th>\n",
       "      <td>203465.jpg</td>\n",
       "      <td>dead_heart</td>\n",
       "      <td>NaN</td>\n",
       "      <td>NaN</td>\n",
       "    </tr>\n",
       "    <tr>\n",
       "      <th>3465</th>\n",
       "      <td>203466.jpg</td>\n",
       "      <td>hispa</td>\n",
       "      <td>NaN</td>\n",
       "      <td>NaN</td>\n",
       "    </tr>\n",
       "    <tr>\n",
       "      <th>3466</th>\n",
       "      <td>203467.jpg</td>\n",
       "      <td>normal</td>\n",
       "      <td>NaN</td>\n",
       "      <td>NaN</td>\n",
       "    </tr>\n",
       "    <tr>\n",
       "      <th>3467</th>\n",
       "      <td>203468.jpg</td>\n",
       "      <td>blast</td>\n",
       "      <td>NaN</td>\n",
       "      <td>NaN</td>\n",
       "    </tr>\n",
       "    <tr>\n",
       "      <th>3468</th>\n",
       "      <td>203469.jpg</td>\n",
       "      <td>dead_heart</td>\n",
       "      <td>NaN</td>\n",
       "      <td>NaN</td>\n",
       "    </tr>\n",
       "  </tbody>\n",
       "</table>\n",
       "<p>3469 rows × 4 columns</p>\n",
       "</div>"
      ],
      "text/plain": [
       "        image_id       label  variety  age\n",
       "0     200001.jpg       hispa      NaN  NaN\n",
       "1     200002.jpg      normal      NaN  NaN\n",
       "2     200003.jpg       blast      NaN  NaN\n",
       "3     200004.jpg       blast      NaN  NaN\n",
       "4     200005.jpg       blast      NaN  NaN\n",
       "...          ...         ...      ...  ...\n",
       "3464  203465.jpg  dead_heart      NaN  NaN\n",
       "3465  203466.jpg       hispa      NaN  NaN\n",
       "3466  203467.jpg      normal      NaN  NaN\n",
       "3467  203468.jpg       blast      NaN  NaN\n",
       "3468  203469.jpg  dead_heart      NaN  NaN\n",
       "\n",
       "[3469 rows x 4 columns]"
      ]
     },
     "execution_count": 15,
     "metadata": {},
     "output_type": "execute_result"
    }
   ],
   "source": [
    "submission_df[\"label\"] = disease_labels\n",
    "submission_df"
   ]
  },
  {
   "cell_type": "markdown",
   "id": "dfcd8f3b",
   "metadata": {},
   "source": [
    "# Task 2: Variety Classification Final Prediction"
   ]
  },
  {
   "cell_type": "code",
   "execution_count": 32,
   "id": "99ec9056",
   "metadata": {},
   "outputs": [
    {
     "name": "stdout",
     "output_type": "stream",
     "text": [
      "Model loaded from ./models/efficientnet_final.keras\n",
      "Found 3469 validated image filenames.\n"
     ]
    }
   ],
   "source": [
    "variety_model_path = \"./models/efficientnet_final.keras\"\n",
    "variety_classes = {\n",
    "    0: \"ADT45\",\n",
    "    1: \"AndraPonni\",\n",
    "    2: \"AtchayaPonni\",\n",
    "    3: \"IR20\",\n",
    "    4: \"KarnatakaPonni\",\n",
    "    5: \"Onthanel\",\n",
    "    6: \"Ponni\",\n",
    "    7: \"RR\",\n",
    "    8: \"Surya\",\n",
    "    9: \"Zonal\",\n",
    "}\n",
    "\n",
    "variety_model, variety_generator = load_and_prepare_model(\n",
    "    variety_model_path, test_df, is_resized=False\n",
    ")"
   ]
  },
  {
   "cell_type": "code",
   "execution_count": 33,
   "id": "934df1bb",
   "metadata": {},
   "outputs": [
    {
     "name": "stdout",
     "output_type": "stream",
     "text": [
      "+----------------------------------------------+\n",
      "|           VARIETY FINAL PREDICTION           |\n",
      "+----------------------------------------------+\n",
      "109/109 [==============================] - 31s 266ms/step\n",
      "Predicted probabilities shape: (3469, 10)\n"
     ]
    }
   ],
   "source": [
    "vi.print_header(\"Variety Final Prediction\")\n",
    "\n",
    "variety_generator.reset()\n",
    "variety_pred_probs = variety_model.predict(\n",
    "    wrap_generator(variety_generator), steps=len(variety_generator), verbose=1\n",
    ")\n",
    "\n",
    "print(\"Predicted probabilities shape:\", variety_pred_probs.shape)\n",
    "\n",
    "variety_pred_indices = np.argmax(variety_pred_probs, axis=1)\n",
    "variety_labels = [variety_classes[i] for i in variety_pred_indices]"
   ]
  },
  {
   "cell_type": "markdown",
   "id": "ca9f0d1b",
   "metadata": {},
   "source": [
    "## Save to data frame"
   ]
  },
  {
   "cell_type": "code",
   "execution_count": 34,
   "id": "8b91ee03",
   "metadata": {},
   "outputs": [
    {
     "data": {
      "application/vnd.microsoft.datawrangler.viewer.v0+json": {
       "columns": [
        {
         "name": "index",
         "rawType": "int64",
         "type": "integer"
        },
        {
         "name": "image_id",
         "rawType": "object",
         "type": "string"
        },
        {
         "name": "label",
         "rawType": "object",
         "type": "string"
        },
        {
         "name": "variety",
         "rawType": "object",
         "type": "string"
        },
        {
         "name": "age",
         "rawType": "float64",
         "type": "float"
        }
       ],
       "conversionMethod": "pd.DataFrame",
       "ref": "28b37f4c-84d6-4a12-adb9-d1166b5fa162",
       "rows": [
        [
         "0",
         "200001.jpg",
         "hispa",
         "ADT45",
         null
        ],
        [
         "1",
         "200002.jpg",
         "normal",
         "ADT45",
         null
        ],
        [
         "2",
         "200003.jpg",
         "blast",
         "Surya",
         null
        ],
        [
         "3",
         "200004.jpg",
         "blast",
         "Surya",
         null
        ],
        [
         "4",
         "200005.jpg",
         "blast",
         "AndraPonni",
         null
        ],
        [
         "5",
         "200006.jpg",
         "brown_spot",
         "ADT45",
         null
        ],
        [
         "6",
         "200007.jpg",
         "dead_heart",
         "ADT45",
         null
        ],
        [
         "7",
         "200008.jpg",
         "normal",
         "Ponni",
         null
        ],
        [
         "8",
         "200009.jpg",
         "hispa",
         "ADT45",
         null
        ],
        [
         "9",
         "200010.jpg",
         "normal",
         "Surya",
         null
        ],
        [
         "10",
         "200011.jpg",
         "dead_heart",
         "Surya",
         null
        ],
        [
         "11",
         "200012.jpg",
         "hispa",
         "Surya",
         null
        ],
        [
         "12",
         "200013.jpg",
         "normal",
         "Surya",
         null
        ],
        [
         "13",
         "200014.jpg",
         "dead_heart",
         "ADT45",
         null
        ],
        [
         "14",
         "200015.jpg",
         "normal",
         "Surya",
         null
        ],
        [
         "15",
         "200016.jpg",
         "blast",
         "Surya",
         null
        ],
        [
         "16",
         "200017.jpg",
         "blast",
         "KarnatakaPonni",
         null
        ],
        [
         "17",
         "200018.jpg",
         "hispa",
         "Surya",
         null
        ],
        [
         "18",
         "200019.jpg",
         "dead_heart",
         "Surya",
         null
        ],
        [
         "19",
         "200020.jpg",
         "dead_heart",
         "Surya",
         null
        ],
        [
         "20",
         "200021.jpg",
         "bacterial_panicle_blight",
         "Surya",
         null
        ],
        [
         "21",
         "200022.jpg",
         "tungro",
         "Surya",
         null
        ],
        [
         "22",
         "200023.jpg",
         "bacterial_leaf_blight",
         "Surya",
         null
        ],
        [
         "23",
         "200024.jpg",
         "blast",
         "ADT45",
         null
        ],
        [
         "24",
         "200025.jpg",
         "blast",
         "KarnatakaPonni",
         null
        ],
        [
         "25",
         "200026.jpg",
         "hispa",
         "ADT45",
         null
        ],
        [
         "26",
         "200027.jpg",
         "blast",
         "ADT45",
         null
        ],
        [
         "27",
         "200028.jpg",
         "brown_spot",
         "ADT45",
         null
        ],
        [
         "28",
         "200029.jpg",
         "dead_heart",
         "ADT45",
         null
        ],
        [
         "29",
         "200030.jpg",
         "bacterial_leaf_streak",
         "Surya",
         null
        ],
        [
         "30",
         "200031.jpg",
         "hispa",
         "Surya",
         null
        ],
        [
         "31",
         "200032.jpg",
         "dead_heart",
         "Surya",
         null
        ],
        [
         "32",
         "200033.jpg",
         "brown_spot",
         "ADT45",
         null
        ],
        [
         "33",
         "200034.jpg",
         "brown_spot",
         "Surya",
         null
        ],
        [
         "34",
         "200035.jpg",
         "dead_heart",
         "Surya",
         null
        ],
        [
         "35",
         "200036.jpg",
         "hispa",
         "Surya",
         null
        ],
        [
         "36",
         "200037.jpg",
         "bacterial_leaf_blight",
         "ADT45",
         null
        ],
        [
         "37",
         "200038.jpg",
         "tungro",
         "ADT45",
         null
        ],
        [
         "38",
         "200039.jpg",
         "dead_heart",
         "ADT45",
         null
        ],
        [
         "39",
         "200040.jpg",
         "tungro",
         "ADT45",
         null
        ],
        [
         "40",
         "200041.jpg",
         "tungro",
         "ADT45",
         null
        ],
        [
         "41",
         "200042.jpg",
         "hispa",
         "Surya",
         null
        ],
        [
         "42",
         "200043.jpg",
         "bacterial_leaf_streak",
         "KarnatakaPonni",
         null
        ],
        [
         "43",
         "200044.jpg",
         "hispa",
         "Surya",
         null
        ],
        [
         "44",
         "200045.jpg",
         "bacterial_leaf_blight",
         "Surya",
         null
        ],
        [
         "45",
         "200046.jpg",
         "bacterial_leaf_blight",
         "ADT45",
         null
        ],
        [
         "46",
         "200047.jpg",
         "blast",
         "Surya",
         null
        ],
        [
         "47",
         "200048.jpg",
         "brown_spot",
         "Surya",
         null
        ],
        [
         "48",
         "200049.jpg",
         "bacterial_panicle_blight",
         "Surya",
         null
        ],
        [
         "49",
         "200050.jpg",
         "dead_heart",
         "ADT45",
         null
        ]
       ],
       "shape": {
        "columns": 4,
        "rows": 3469
       }
      },
      "text/html": [
       "<div>\n",
       "<style scoped>\n",
       "    .dataframe tbody tr th:only-of-type {\n",
       "        vertical-align: middle;\n",
       "    }\n",
       "\n",
       "    .dataframe tbody tr th {\n",
       "        vertical-align: top;\n",
       "    }\n",
       "\n",
       "    .dataframe thead th {\n",
       "        text-align: right;\n",
       "    }\n",
       "</style>\n",
       "<table border=\"1\" class=\"dataframe\">\n",
       "  <thead>\n",
       "    <tr style=\"text-align: right;\">\n",
       "      <th></th>\n",
       "      <th>image_id</th>\n",
       "      <th>label</th>\n",
       "      <th>variety</th>\n",
       "      <th>age</th>\n",
       "    </tr>\n",
       "  </thead>\n",
       "  <tbody>\n",
       "    <tr>\n",
       "      <th>0</th>\n",
       "      <td>200001.jpg</td>\n",
       "      <td>hispa</td>\n",
       "      <td>ADT45</td>\n",
       "      <td>NaN</td>\n",
       "    </tr>\n",
       "    <tr>\n",
       "      <th>1</th>\n",
       "      <td>200002.jpg</td>\n",
       "      <td>normal</td>\n",
       "      <td>ADT45</td>\n",
       "      <td>NaN</td>\n",
       "    </tr>\n",
       "    <tr>\n",
       "      <th>2</th>\n",
       "      <td>200003.jpg</td>\n",
       "      <td>blast</td>\n",
       "      <td>Surya</td>\n",
       "      <td>NaN</td>\n",
       "    </tr>\n",
       "    <tr>\n",
       "      <th>3</th>\n",
       "      <td>200004.jpg</td>\n",
       "      <td>blast</td>\n",
       "      <td>Surya</td>\n",
       "      <td>NaN</td>\n",
       "    </tr>\n",
       "    <tr>\n",
       "      <th>4</th>\n",
       "      <td>200005.jpg</td>\n",
       "      <td>blast</td>\n",
       "      <td>AndraPonni</td>\n",
       "      <td>NaN</td>\n",
       "    </tr>\n",
       "    <tr>\n",
       "      <th>...</th>\n",
       "      <td>...</td>\n",
       "      <td>...</td>\n",
       "      <td>...</td>\n",
       "      <td>...</td>\n",
       "    </tr>\n",
       "    <tr>\n",
       "      <th>3464</th>\n",
       "      <td>203465.jpg</td>\n",
       "      <td>dead_heart</td>\n",
       "      <td>ADT45</td>\n",
       "      <td>NaN</td>\n",
       "    </tr>\n",
       "    <tr>\n",
       "      <th>3465</th>\n",
       "      <td>203466.jpg</td>\n",
       "      <td>hispa</td>\n",
       "      <td>Surya</td>\n",
       "      <td>NaN</td>\n",
       "    </tr>\n",
       "    <tr>\n",
       "      <th>3466</th>\n",
       "      <td>203467.jpg</td>\n",
       "      <td>normal</td>\n",
       "      <td>ADT45</td>\n",
       "      <td>NaN</td>\n",
       "    </tr>\n",
       "    <tr>\n",
       "      <th>3467</th>\n",
       "      <td>203468.jpg</td>\n",
       "      <td>blast</td>\n",
       "      <td>Surya</td>\n",
       "      <td>NaN</td>\n",
       "    </tr>\n",
       "    <tr>\n",
       "      <th>3468</th>\n",
       "      <td>203469.jpg</td>\n",
       "      <td>dead_heart</td>\n",
       "      <td>Surya</td>\n",
       "      <td>NaN</td>\n",
       "    </tr>\n",
       "  </tbody>\n",
       "</table>\n",
       "<p>3469 rows × 4 columns</p>\n",
       "</div>"
      ],
      "text/plain": [
       "        image_id       label     variety  age\n",
       "0     200001.jpg       hispa       ADT45  NaN\n",
       "1     200002.jpg      normal       ADT45  NaN\n",
       "2     200003.jpg       blast       Surya  NaN\n",
       "3     200004.jpg       blast       Surya  NaN\n",
       "4     200005.jpg       blast  AndraPonni  NaN\n",
       "...          ...         ...         ...  ...\n",
       "3464  203465.jpg  dead_heart       ADT45  NaN\n",
       "3465  203466.jpg       hispa       Surya  NaN\n",
       "3466  203467.jpg      normal       ADT45  NaN\n",
       "3467  203468.jpg       blast       Surya  NaN\n",
       "3468  203469.jpg  dead_heart       Surya  NaN\n",
       "\n",
       "[3469 rows x 4 columns]"
      ]
     },
     "execution_count": 34,
     "metadata": {},
     "output_type": "execute_result"
    }
   ],
   "source": [
    "submission_df[\"variety\"] = variety_labels\n",
    "submission_df"
   ]
  },
  {
   "cell_type": "markdown",
   "id": "d43ca46e",
   "metadata": {},
   "source": [
    "# Task 3: Age Final Prediction"
   ]
  },
  {
   "cell_type": "code",
   "execution_count": 10,
   "id": "5c1810c7",
   "metadata": {},
   "outputs": [
    {
     "name": "stdout",
     "output_type": "stream",
     "text": [
      "Model loaded from ./models/resnet50v2_best_model.keras\n",
      "Found 3469 validated image filenames.\n"
     ]
    }
   ],
   "source": [
    "agent_model_path = \"./models/resnet50v2_best_model.keras\"\n",
    "\n",
    "age_model, age_generator = load_and_prepare_model(\n",
    "    agent_model_path, test_df\n",
    ")"
   ]
  },
  {
   "cell_type": "code",
   "execution_count": 12,
   "id": "95bbb262",
   "metadata": {},
   "outputs": [
    {
     "name": "stdout",
     "output_type": "stream",
     "text": [
      "+------------------------------------------+\n",
      "|           AGE FINAL PREDICTION           |\n",
      "+------------------------------------------+\n",
      "\u001b[1m109/109\u001b[0m \u001b[32m━━━━━━━━━━━━━━━━━━━━\u001b[0m\u001b[37m\u001b[0m \u001b[1m46s\u001b[0m 420ms/step\n"
     ]
    }
   ],
   "source": [
    "vi.print_header(\"Age Final Prediction\")\n",
    "age_pred = age_model.predict(\n",
    "    wrap_generator(age_generator), steps=len(age_generator), verbose=1\n",
    ").flatten()\n",
    "\n",
    "age_pred = np.round(age_pred)"
   ]
  },
  {
   "cell_type": "markdown",
   "id": "3c8a8dde",
   "metadata": {},
   "source": [
    "## Save to data frame"
   ]
  },
  {
   "cell_type": "code",
   "execution_count": 13,
   "id": "7d3bbf88",
   "metadata": {},
   "outputs": [
    {
     "data": {
      "application/vnd.microsoft.datawrangler.viewer.v0+json": {
       "columns": [
        {
         "name": "index",
         "rawType": "int64",
         "type": "integer"
        },
        {
         "name": "image_id",
         "rawType": "object",
         "type": "string"
        },
        {
         "name": "label",
         "rawType": "object",
         "type": "string"
        },
        {
         "name": "variety",
         "rawType": "object",
         "type": "string"
        },
        {
         "name": "age",
         "rawType": "float32",
         "type": "float"
        }
       ],
       "conversionMethod": "pd.DataFrame",
       "ref": "3e4bca92-dc50-4bf7-bbff-f00ae3d90559",
       "rows": [
        [
         "0",
         "200001.jpg",
         "hispa",
         "ADT45",
         "67.0"
        ],
        [
         "1",
         "200002.jpg",
         "normal",
         "ADT45",
         "69.0"
        ],
        [
         "2",
         "200003.jpg",
         "blast",
         "Surya",
         "70.0"
        ],
        [
         "3",
         "200004.jpg",
         "blast",
         "Surya",
         "45.0"
        ],
        [
         "4",
         "200005.jpg",
         "blast",
         "AndraPonni",
         "76.0"
        ],
        [
         "5",
         "200006.jpg",
         "brown_spot",
         "ADT45",
         "68.0"
        ],
        [
         "6",
         "200007.jpg",
         "dead_heart",
         "ADT45",
         "65.0"
        ],
        [
         "7",
         "200008.jpg",
         "normal",
         "Ponni",
         "75.0"
        ],
        [
         "8",
         "200009.jpg",
         "hispa",
         "ADT45",
         "50.0"
        ],
        [
         "9",
         "200010.jpg",
         "normal",
         "Surya",
         "70.0"
        ],
        [
         "10",
         "200011.jpg",
         "dead_heart",
         "Surya",
         "59.0"
        ],
        [
         "11",
         "200012.jpg",
         "hispa",
         "Surya",
         "72.0"
        ],
        [
         "12",
         "200013.jpg",
         "normal",
         "Surya",
         "67.0"
        ],
        [
         "13",
         "200014.jpg",
         "dead_heart",
         "ADT45",
         "71.0"
        ],
        [
         "14",
         "200015.jpg",
         "normal",
         "Surya",
         "64.0"
        ],
        [
         "15",
         "200016.jpg",
         "blast",
         "Surya",
         "51.0"
        ],
        [
         "16",
         "200017.jpg",
         "blast",
         "KarnatakaPonni",
         "76.0"
        ],
        [
         "17",
         "200018.jpg",
         "hispa",
         "Surya",
         "55.0"
        ],
        [
         "18",
         "200019.jpg",
         "dead_heart",
         "Surya",
         "69.0"
        ],
        [
         "19",
         "200020.jpg",
         "dead_heart",
         "Surya",
         "67.0"
        ],
        [
         "20",
         "200021.jpg",
         "bacterial_panicle_blight",
         "Surya",
         "71.0"
        ],
        [
         "21",
         "200022.jpg",
         "tungro",
         "Surya",
         "60.0"
        ],
        [
         "22",
         "200023.jpg",
         "bacterial_leaf_blight",
         "Surya",
         "73.0"
        ],
        [
         "23",
         "200024.jpg",
         "blast",
         "ADT45",
         "67.0"
        ],
        [
         "24",
         "200025.jpg",
         "blast",
         "KarnatakaPonni",
         "53.0"
        ],
        [
         "25",
         "200026.jpg",
         "hispa",
         "ADT45",
         "74.0"
        ],
        [
         "26",
         "200027.jpg",
         "blast",
         "ADT45",
         "65.0"
        ],
        [
         "27",
         "200028.jpg",
         "brown_spot",
         "ADT45",
         "68.0"
        ],
        [
         "28",
         "200029.jpg",
         "dead_heart",
         "ADT45",
         "74.0"
        ],
        [
         "29",
         "200030.jpg",
         "bacterial_leaf_streak",
         "Surya",
         "69.0"
        ],
        [
         "30",
         "200031.jpg",
         "hispa",
         "Surya",
         "72.0"
        ],
        [
         "31",
         "200032.jpg",
         "dead_heart",
         "Surya",
         "68.0"
        ],
        [
         "32",
         "200033.jpg",
         "brown_spot",
         "ADT45",
         "56.0"
        ],
        [
         "33",
         "200034.jpg",
         "brown_spot",
         "Surya",
         "74.0"
        ],
        [
         "34",
         "200035.jpg",
         "dead_heart",
         "Surya",
         "72.0"
        ],
        [
         "35",
         "200036.jpg",
         "hispa",
         "Surya",
         "64.0"
        ],
        [
         "36",
         "200037.jpg",
         "bacterial_leaf_blight",
         "ADT45",
         "67.0"
        ],
        [
         "37",
         "200038.jpg",
         "tungro",
         "ADT45",
         "68.0"
        ],
        [
         "38",
         "200039.jpg",
         "dead_heart",
         "ADT45",
         "70.0"
        ],
        [
         "39",
         "200040.jpg",
         "tungro",
         "ADT45",
         "59.0"
        ],
        [
         "40",
         "200041.jpg",
         "tungro",
         "ADT45",
         "72.0"
        ],
        [
         "41",
         "200042.jpg",
         "hispa",
         "Surya",
         "72.0"
        ],
        [
         "42",
         "200043.jpg",
         "bacterial_leaf_streak",
         "KarnatakaPonni",
         "59.0"
        ],
        [
         "43",
         "200044.jpg",
         "hispa",
         "Surya",
         "47.0"
        ],
        [
         "44",
         "200045.jpg",
         "bacterial_leaf_blight",
         "Surya",
         "69.0"
        ],
        [
         "45",
         "200046.jpg",
         "bacterial_leaf_blight",
         "ADT45",
         "73.0"
        ],
        [
         "46",
         "200047.jpg",
         "blast",
         "Surya",
         "71.0"
        ],
        [
         "47",
         "200048.jpg",
         "brown_spot",
         "Surya",
         "68.0"
        ],
        [
         "48",
         "200049.jpg",
         "bacterial_panicle_blight",
         "Surya",
         "70.0"
        ],
        [
         "49",
         "200050.jpg",
         "dead_heart",
         "ADT45",
         "67.0"
        ]
       ],
       "shape": {
        "columns": 4,
        "rows": 3469
       }
      },
      "text/html": [
       "<div>\n",
       "<style scoped>\n",
       "    .dataframe tbody tr th:only-of-type {\n",
       "        vertical-align: middle;\n",
       "    }\n",
       "\n",
       "    .dataframe tbody tr th {\n",
       "        vertical-align: top;\n",
       "    }\n",
       "\n",
       "    .dataframe thead th {\n",
       "        text-align: right;\n",
       "    }\n",
       "</style>\n",
       "<table border=\"1\" class=\"dataframe\">\n",
       "  <thead>\n",
       "    <tr style=\"text-align: right;\">\n",
       "      <th></th>\n",
       "      <th>image_id</th>\n",
       "      <th>label</th>\n",
       "      <th>variety</th>\n",
       "      <th>age</th>\n",
       "    </tr>\n",
       "  </thead>\n",
       "  <tbody>\n",
       "    <tr>\n",
       "      <th>0</th>\n",
       "      <td>200001.jpg</td>\n",
       "      <td>hispa</td>\n",
       "      <td>ADT45</td>\n",
       "      <td>67.0</td>\n",
       "    </tr>\n",
       "    <tr>\n",
       "      <th>1</th>\n",
       "      <td>200002.jpg</td>\n",
       "      <td>normal</td>\n",
       "      <td>ADT45</td>\n",
       "      <td>69.0</td>\n",
       "    </tr>\n",
       "    <tr>\n",
       "      <th>2</th>\n",
       "      <td>200003.jpg</td>\n",
       "      <td>blast</td>\n",
       "      <td>Surya</td>\n",
       "      <td>70.0</td>\n",
       "    </tr>\n",
       "    <tr>\n",
       "      <th>3</th>\n",
       "      <td>200004.jpg</td>\n",
       "      <td>blast</td>\n",
       "      <td>Surya</td>\n",
       "      <td>45.0</td>\n",
       "    </tr>\n",
       "    <tr>\n",
       "      <th>4</th>\n",
       "      <td>200005.jpg</td>\n",
       "      <td>blast</td>\n",
       "      <td>AndraPonni</td>\n",
       "      <td>76.0</td>\n",
       "    </tr>\n",
       "    <tr>\n",
       "      <th>...</th>\n",
       "      <td>...</td>\n",
       "      <td>...</td>\n",
       "      <td>...</td>\n",
       "      <td>...</td>\n",
       "    </tr>\n",
       "    <tr>\n",
       "      <th>3464</th>\n",
       "      <td>203465.jpg</td>\n",
       "      <td>dead_heart</td>\n",
       "      <td>ADT45</td>\n",
       "      <td>66.0</td>\n",
       "    </tr>\n",
       "    <tr>\n",
       "      <th>3465</th>\n",
       "      <td>203466.jpg</td>\n",
       "      <td>hispa</td>\n",
       "      <td>Surya</td>\n",
       "      <td>68.0</td>\n",
       "    </tr>\n",
       "    <tr>\n",
       "      <th>3466</th>\n",
       "      <td>203467.jpg</td>\n",
       "      <td>normal</td>\n",
       "      <td>ADT45</td>\n",
       "      <td>70.0</td>\n",
       "    </tr>\n",
       "    <tr>\n",
       "      <th>3467</th>\n",
       "      <td>203468.jpg</td>\n",
       "      <td>blast</td>\n",
       "      <td>Surya</td>\n",
       "      <td>66.0</td>\n",
       "    </tr>\n",
       "    <tr>\n",
       "      <th>3468</th>\n",
       "      <td>203469.jpg</td>\n",
       "      <td>dead_heart</td>\n",
       "      <td>Surya</td>\n",
       "      <td>69.0</td>\n",
       "    </tr>\n",
       "  </tbody>\n",
       "</table>\n",
       "<p>3469 rows × 4 columns</p>\n",
       "</div>"
      ],
      "text/plain": [
       "        image_id       label     variety   age\n",
       "0     200001.jpg       hispa       ADT45  67.0\n",
       "1     200002.jpg      normal       ADT45  69.0\n",
       "2     200003.jpg       blast       Surya  70.0\n",
       "3     200004.jpg       blast       Surya  45.0\n",
       "4     200005.jpg       blast  AndraPonni  76.0\n",
       "...          ...         ...         ...   ...\n",
       "3464  203465.jpg  dead_heart       ADT45  66.0\n",
       "3465  203466.jpg       hispa       Surya  68.0\n",
       "3466  203467.jpg      normal       ADT45  70.0\n",
       "3467  203468.jpg       blast       Surya  66.0\n",
       "3468  203469.jpg  dead_heart       Surya  69.0\n",
       "\n",
       "[3469 rows x 4 columns]"
      ]
     },
     "execution_count": 13,
     "metadata": {},
     "output_type": "execute_result"
    }
   ],
   "source": [
    "submission_df[\"age\"] = age_pred\n",
    "submission_df"
   ]
  },
  {
   "cell_type": "markdown",
   "id": "cc24ecfa",
   "metadata": {},
   "source": [
    "# Save to CSV"
   ]
  },
  {
   "cell_type": "code",
   "execution_count": 15,
   "id": "33c3774a",
   "metadata": {},
   "outputs": [
    {
     "name": "stdout",
     "output_type": "stream",
     "text": [
      "+---------------------------------+\n",
      "|           SAVE TO CSV           |\n",
      "+---------------------------------+\n",
      "Submission file saved to ./inputs/COSC2753_A2_S2_G2.csv\n"
     ]
    },
    {
     "data": {
      "application/vnd.microsoft.datawrangler.viewer.v0+json": {
       "columns": [
        {
         "name": "index",
         "rawType": "int64",
         "type": "integer"
        },
        {
         "name": "image_id",
         "rawType": "object",
         "type": "string"
        },
        {
         "name": "label",
         "rawType": "object",
         "type": "string"
        },
        {
         "name": "variety",
         "rawType": "object",
         "type": "string"
        },
        {
         "name": "age",
         "rawType": "float32",
         "type": "float"
        }
       ],
       "conversionMethod": "pd.DataFrame",
       "ref": "ada43218-4c0d-431e-96f5-6269b1120185",
       "rows": [
        [
         "0",
         "200001.jpg",
         "hispa",
         "ADT45",
         "67.0"
        ],
        [
         "1",
         "200002.jpg",
         "normal",
         "ADT45",
         "69.0"
        ],
        [
         "2",
         "200003.jpg",
         "blast",
         "Surya",
         "70.0"
        ],
        [
         "3",
         "200004.jpg",
         "blast",
         "Surya",
         "45.0"
        ],
        [
         "4",
         "200005.jpg",
         "blast",
         "AndraPonni",
         "76.0"
        ],
        [
         "5",
         "200006.jpg",
         "brown_spot",
         "ADT45",
         "68.0"
        ],
        [
         "6",
         "200007.jpg",
         "dead_heart",
         "ADT45",
         "65.0"
        ],
        [
         "7",
         "200008.jpg",
         "normal",
         "Ponni",
         "75.0"
        ],
        [
         "8",
         "200009.jpg",
         "hispa",
         "ADT45",
         "50.0"
        ],
        [
         "9",
         "200010.jpg",
         "normal",
         "Surya",
         "70.0"
        ],
        [
         "10",
         "200011.jpg",
         "dead_heart",
         "Surya",
         "59.0"
        ],
        [
         "11",
         "200012.jpg",
         "hispa",
         "Surya",
         "72.0"
        ],
        [
         "12",
         "200013.jpg",
         "normal",
         "Surya",
         "67.0"
        ],
        [
         "13",
         "200014.jpg",
         "dead_heart",
         "ADT45",
         "71.0"
        ],
        [
         "14",
         "200015.jpg",
         "normal",
         "Surya",
         "64.0"
        ],
        [
         "15",
         "200016.jpg",
         "blast",
         "Surya",
         "51.0"
        ],
        [
         "16",
         "200017.jpg",
         "blast",
         "KarnatakaPonni",
         "76.0"
        ],
        [
         "17",
         "200018.jpg",
         "hispa",
         "Surya",
         "55.0"
        ],
        [
         "18",
         "200019.jpg",
         "dead_heart",
         "Surya",
         "69.0"
        ],
        [
         "19",
         "200020.jpg",
         "dead_heart",
         "Surya",
         "67.0"
        ],
        [
         "20",
         "200021.jpg",
         "bacterial_panicle_blight",
         "Surya",
         "71.0"
        ],
        [
         "21",
         "200022.jpg",
         "tungro",
         "Surya",
         "60.0"
        ],
        [
         "22",
         "200023.jpg",
         "bacterial_leaf_blight",
         "Surya",
         "73.0"
        ],
        [
         "23",
         "200024.jpg",
         "blast",
         "ADT45",
         "67.0"
        ],
        [
         "24",
         "200025.jpg",
         "blast",
         "KarnatakaPonni",
         "53.0"
        ],
        [
         "25",
         "200026.jpg",
         "hispa",
         "ADT45",
         "74.0"
        ],
        [
         "26",
         "200027.jpg",
         "blast",
         "ADT45",
         "65.0"
        ],
        [
         "27",
         "200028.jpg",
         "brown_spot",
         "ADT45",
         "68.0"
        ],
        [
         "28",
         "200029.jpg",
         "dead_heart",
         "ADT45",
         "74.0"
        ],
        [
         "29",
         "200030.jpg",
         "bacterial_leaf_streak",
         "Surya",
         "69.0"
        ],
        [
         "30",
         "200031.jpg",
         "hispa",
         "Surya",
         "72.0"
        ],
        [
         "31",
         "200032.jpg",
         "dead_heart",
         "Surya",
         "68.0"
        ],
        [
         "32",
         "200033.jpg",
         "brown_spot",
         "ADT45",
         "56.0"
        ],
        [
         "33",
         "200034.jpg",
         "brown_spot",
         "Surya",
         "74.0"
        ],
        [
         "34",
         "200035.jpg",
         "dead_heart",
         "Surya",
         "72.0"
        ],
        [
         "35",
         "200036.jpg",
         "hispa",
         "Surya",
         "64.0"
        ],
        [
         "36",
         "200037.jpg",
         "bacterial_leaf_blight",
         "ADT45",
         "67.0"
        ],
        [
         "37",
         "200038.jpg",
         "tungro",
         "ADT45",
         "68.0"
        ],
        [
         "38",
         "200039.jpg",
         "dead_heart",
         "ADT45",
         "70.0"
        ],
        [
         "39",
         "200040.jpg",
         "tungro",
         "ADT45",
         "59.0"
        ],
        [
         "40",
         "200041.jpg",
         "tungro",
         "ADT45",
         "72.0"
        ],
        [
         "41",
         "200042.jpg",
         "hispa",
         "Surya",
         "72.0"
        ],
        [
         "42",
         "200043.jpg",
         "bacterial_leaf_streak",
         "KarnatakaPonni",
         "59.0"
        ],
        [
         "43",
         "200044.jpg",
         "hispa",
         "Surya",
         "47.0"
        ],
        [
         "44",
         "200045.jpg",
         "bacterial_leaf_blight",
         "Surya",
         "69.0"
        ],
        [
         "45",
         "200046.jpg",
         "bacterial_leaf_blight",
         "ADT45",
         "73.0"
        ],
        [
         "46",
         "200047.jpg",
         "blast",
         "Surya",
         "71.0"
        ],
        [
         "47",
         "200048.jpg",
         "brown_spot",
         "Surya",
         "68.0"
        ],
        [
         "48",
         "200049.jpg",
         "bacterial_panicle_blight",
         "Surya",
         "70.0"
        ],
        [
         "49",
         "200050.jpg",
         "dead_heart",
         "ADT45",
         "67.0"
        ]
       ],
       "shape": {
        "columns": 4,
        "rows": 3469
       }
      },
      "text/html": [
       "<div>\n",
       "<style scoped>\n",
       "    .dataframe tbody tr th:only-of-type {\n",
       "        vertical-align: middle;\n",
       "    }\n",
       "\n",
       "    .dataframe tbody tr th {\n",
       "        vertical-align: top;\n",
       "    }\n",
       "\n",
       "    .dataframe thead th {\n",
       "        text-align: right;\n",
       "    }\n",
       "</style>\n",
       "<table border=\"1\" class=\"dataframe\">\n",
       "  <thead>\n",
       "    <tr style=\"text-align: right;\">\n",
       "      <th></th>\n",
       "      <th>image_id</th>\n",
       "      <th>label</th>\n",
       "      <th>variety</th>\n",
       "      <th>age</th>\n",
       "    </tr>\n",
       "  </thead>\n",
       "  <tbody>\n",
       "    <tr>\n",
       "      <th>0</th>\n",
       "      <td>200001.jpg</td>\n",
       "      <td>hispa</td>\n",
       "      <td>ADT45</td>\n",
       "      <td>67.0</td>\n",
       "    </tr>\n",
       "    <tr>\n",
       "      <th>1</th>\n",
       "      <td>200002.jpg</td>\n",
       "      <td>normal</td>\n",
       "      <td>ADT45</td>\n",
       "      <td>69.0</td>\n",
       "    </tr>\n",
       "    <tr>\n",
       "      <th>2</th>\n",
       "      <td>200003.jpg</td>\n",
       "      <td>blast</td>\n",
       "      <td>Surya</td>\n",
       "      <td>70.0</td>\n",
       "    </tr>\n",
       "    <tr>\n",
       "      <th>3</th>\n",
       "      <td>200004.jpg</td>\n",
       "      <td>blast</td>\n",
       "      <td>Surya</td>\n",
       "      <td>45.0</td>\n",
       "    </tr>\n",
       "    <tr>\n",
       "      <th>4</th>\n",
       "      <td>200005.jpg</td>\n",
       "      <td>blast</td>\n",
       "      <td>AndraPonni</td>\n",
       "      <td>76.0</td>\n",
       "    </tr>\n",
       "    <tr>\n",
       "      <th>...</th>\n",
       "      <td>...</td>\n",
       "      <td>...</td>\n",
       "      <td>...</td>\n",
       "      <td>...</td>\n",
       "    </tr>\n",
       "    <tr>\n",
       "      <th>3464</th>\n",
       "      <td>203465.jpg</td>\n",
       "      <td>dead_heart</td>\n",
       "      <td>ADT45</td>\n",
       "      <td>66.0</td>\n",
       "    </tr>\n",
       "    <tr>\n",
       "      <th>3465</th>\n",
       "      <td>203466.jpg</td>\n",
       "      <td>hispa</td>\n",
       "      <td>Surya</td>\n",
       "      <td>68.0</td>\n",
       "    </tr>\n",
       "    <tr>\n",
       "      <th>3466</th>\n",
       "      <td>203467.jpg</td>\n",
       "      <td>normal</td>\n",
       "      <td>ADT45</td>\n",
       "      <td>70.0</td>\n",
       "    </tr>\n",
       "    <tr>\n",
       "      <th>3467</th>\n",
       "      <td>203468.jpg</td>\n",
       "      <td>blast</td>\n",
       "      <td>Surya</td>\n",
       "      <td>66.0</td>\n",
       "    </tr>\n",
       "    <tr>\n",
       "      <th>3468</th>\n",
       "      <td>203469.jpg</td>\n",
       "      <td>dead_heart</td>\n",
       "      <td>Surya</td>\n",
       "      <td>69.0</td>\n",
       "    </tr>\n",
       "  </tbody>\n",
       "</table>\n",
       "<p>3469 rows × 4 columns</p>\n",
       "</div>"
      ],
      "text/plain": [
       "        image_id       label     variety   age\n",
       "0     200001.jpg       hispa       ADT45  67.0\n",
       "1     200002.jpg      normal       ADT45  69.0\n",
       "2     200003.jpg       blast       Surya  70.0\n",
       "3     200004.jpg       blast       Surya  45.0\n",
       "4     200005.jpg       blast  AndraPonni  76.0\n",
       "...          ...         ...         ...   ...\n",
       "3464  203465.jpg  dead_heart       ADT45  66.0\n",
       "3465  203466.jpg       hispa       Surya  68.0\n",
       "3466  203467.jpg      normal       ADT45  70.0\n",
       "3467  203468.jpg       blast       Surya  66.0\n",
       "3468  203469.jpg  dead_heart       Surya  69.0\n",
       "\n",
       "[3469 rows x 4 columns]"
      ]
     },
     "execution_count": 15,
     "metadata": {},
     "output_type": "execute_result"
    }
   ],
   "source": [
    "vi.print_header(\"Save to CSV\")\n",
    "submission_df.to_csv(output_file, index=False)\n",
    "print(f\"Submission file saved to {output_file}\")\n",
    "\n",
    "submission_df"
   ]
  }
 ],
 "metadata": {
  "kernelspec": {
   "display_name": "tf219_env",
   "language": "python",
   "name": "python3"
  },
  "language_info": {
   "codemirror_mode": {
    "name": "ipython",
    "version": 3
   },
   "file_extension": ".py",
   "mimetype": "text/x-python",
   "name": "python",
   "nbconvert_exporter": "python",
   "pygments_lexer": "ipython3",
   "version": "3.10.16"
  }
 },
 "nbformat": 4,
 "nbformat_minor": 5
}
